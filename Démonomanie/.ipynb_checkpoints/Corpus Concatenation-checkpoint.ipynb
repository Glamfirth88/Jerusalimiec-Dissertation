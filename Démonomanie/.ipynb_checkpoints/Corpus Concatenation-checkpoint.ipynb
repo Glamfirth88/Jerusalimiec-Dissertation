{
 "cells": [
  {
   "cell_type": "code",
   "execution_count": 11,
   "id": "52221d2f-41fd-477b-a8f2-2f46a290c2fe",
   "metadata": {},
   "outputs": [
    {
     "name": "stdout",
     "output_type": "stream",
     "text": [
      "Démonomanie I.1_corrected.txt\n",
      "Démonomanie I.2.txt\n",
      "Démonomanie I.3.txt\n",
      "Démonomanie I.4.txt\n",
      "Démonomanie I.5.txt\n",
      "Démonomanie I.6.txt\n",
      "Démonomanie I.7.txt\n",
      "Démonomanie II.1.txt\n",
      "Démonomanie II.2.txt\n",
      "Démonomanie II.3.txt\n",
      "Démonomanie II.4.txt\n",
      "Démonomanie II.5.txt\n",
      "Démonomanie II.6.txt\n",
      "Démonomanie II.7.txt\n",
      "Démonomanie II.8.txt\n",
      "Démonomanie III.1.txt\n",
      "Démonomanie III.2.txt\n",
      "Démonomanie III.3.txt\n",
      "Démonomanie III.4.txt\n",
      "Démonomanie III.5.txt\n",
      "Démonomanie III.6.txt\n",
      "Démonomanie IV.1.txt\n",
      "Démonomanie IV.2.txt\n",
      "Démonomanie IV.3.txt\n",
      "Démonomanie IV.4.txt\n",
      "Démonomanie IV.5.txt\n",
      "Démonomanie preface.txt\n",
      "Concatenated into Démonomanie\n"
     ]
    }
   ],
   "source": [
    "import glob\n",
    "import os\n",
    "from pathlib import Path\n",
    "\n",
    "corpus_name = 'Démonomanie'\n",
    "\n",
    "# Set the folder for the input texts\n",
    "cwd = os.getcwd()\n",
    "texts_folder = Path(cwd)\n",
    "\n",
    "# Set output filename and create file\n",
    "output_folder = Path('./Concatenated')\n",
    "output_folder.mkdir(exist_ok=True)\n",
    "output_file = Path(f'{output_folder}/{corpus_name}.txt')\n",
    "\n",
    "output_file.touch()\n",
    "\n",
    "with open(output_file, 'w') as f_out:\n",
    "    for txt in sorted(texts_folder.glob('*.txt')):\n",
    "        print(os.path.basename(txt))\n",
    "        with open(txt, 'r') as f_in:\n",
    "            fileText = f_in.read()\n",
    "            f_out.write(fileText + \"\\n\" + \"\\n\")\n",
    "            \n",
    "print(f'Concatenated into {corpus_name}.txt')"
   ]
  }
 ],
 "metadata": {
  "kernelspec": {
   "display_name": "Python 3 (ipykernel)",
   "language": "python",
   "name": "python3"
  },
  "language_info": {
   "codemirror_mode": {
    "name": "ipython",
    "version": 3
   },
   "file_extension": ".py",
   "mimetype": "text/x-python",
   "name": "python",
   "nbconvert_exporter": "python",
   "pygments_lexer": "ipython3",
   "version": "3.12.4"
  }
 },
 "nbformat": 4,
 "nbformat_minor": 5
}
