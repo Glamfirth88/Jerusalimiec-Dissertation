{
 "cells": [
  {
   "cell_type": "markdown",
   "id": "7f168636-f8fa-448a-bda5-842440dacda9",
   "metadata": {},
   "source": [
    "# Cummings OCR"
   ]
  },
  {
   "cell_type": "code",
   "execution_count": 5,
   "id": "1a1164f3",
   "metadata": {
    "tags": []
   },
   "outputs": [],
   "source": [
    "# Libraries\n",
    "from pathlib import Path\n",
    "import pdf2image\n",
    "from pdf2image import convert_from_path\n",
    "import os\n",
    "import sys\n",
    "import PIL\n",
    "import pytesseract\n",
    "from PIL import Image, ImageChops, ImageStat"
   ]
  },
  {
   "cell_type": "code",
   "execution_count": 6,
   "id": "f8f11e28-71c6-4c53-bca6-159cb7b1d70e",
   "metadata": {},
   "outputs": [],
   "source": [
    "# Create Directories\n",
    "pdfs_folder = Path(\"./L'Hospital Big 1\")"
   ]
  },
  {
   "cell_type": "code",
   "execution_count": null,
   "id": "c1d663c5-ff0c-4255-a09f-e93d3d9a7bbe",
   "metadata": {
    "scrolled": true
   },
   "outputs": [
    {
     "name": "stdout",
     "output_type": "stream",
     "text": [
      "Converting Traité Justice IV.pdf\n"
     ]
    }
   ],
   "source": [
    "### Convert multiple pdfs into a set of image files ordered by folder ###\n",
    "\n",
    "# For each pdf file in the pdf folder, do the following:\n",
    "for pdf in pdfs_folder.glob('*.pdf'):\n",
    "    # Announce the current working file\n",
    "    print(f'Converting {pdf.name}')\n",
    "    \n",
    "    # Create a folder for the images\n",
    "    pdf_images = Path(f'{pdfs_folder.as_posix()}/{os.path.splitext(pdf.name)[0]}/images')\n",
    "    pdf_images.mkdir(exist_ok=True, parents=True)\n",
    "    \n",
    "    # Get the PDF and convert to a group of PIL (Pillow) objects\n",
    "    document_path = Path(pdf)\n",
    "    PIL_objects = convert_from_path(document_path, 250)\n",
    "\n",
    "    # For each PIL image object:\n",
    "    for page, image in enumerate(PIL_objects):\n",
    "        # Create a file name that includes the original file name, and\n",
    "        # a file number, as well as the file extension.\n",
    "        if page < 10:\n",
    "            fileName = f'{pdf_images.as_posix()}/{os.path.splitext(pdf.name)[0]}_image_000{str(page)}.jpg'\n",
    "        elif page < 100:\n",
    "            fileName = f'{pdf_images.as_posix()}/{os.path.splitext(pdf.name)[0]}_image_00{str(page)}.jpg'\n",
    "        elif page < 1000:\n",
    "            fileName = f'{pdf_images.as_posix()}/{os.path.splitext(pdf.name)[0]}_image_0{str(page)}.jpg'\n",
    "        else:\n",
    "            fileName = f'{pdf_images.as_posix()}/{os.path.splitext(pdf.name)[0]}_image_{str(page)}.jpg'\n",
    "\n",
    "        # Save each PIL image object using the file name created above\n",
    "        # and declare the image's file format. (Try also PNG or TIFF.)\n",
    "        image.save(fileName, 'JPEG')\n",
    "        print('converting page', page)\n",
    "\n",
    "print('All PDFs converted to images.')"
   ]
  }
 ],
 "metadata": {
  "kernelspec": {
   "display_name": "Python 3 (ipykernel)",
   "language": "python",
   "name": "python3"
  },
  "language_info": {
   "codemirror_mode": {
    "name": "ipython",
    "version": 3
   },
   "file_extension": ".py",
   "mimetype": "text/x-python",
   "name": "python",
   "nbconvert_exporter": "python",
   "pygments_lexer": "ipython3",
   "version": "3.12.4"
  },
  "toc": {
   "base_numbering": 1,
   "nav_menu": {},
   "number_sections": true,
   "sideBar": true,
   "skip_h1_title": true,
   "title_cell": "Table of Contents",
   "title_sidebar": "Contents",
   "toc_cell": false,
   "toc_position": {},
   "toc_section_display": true,
   "toc_window_display": false
  }
 },
 "nbformat": 4,
 "nbformat_minor": 5
}
