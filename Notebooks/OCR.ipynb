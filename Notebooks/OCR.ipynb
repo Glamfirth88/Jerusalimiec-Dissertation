{
 "cells": [
  {
   "cell_type": "raw",
   "id": "177a5273-f5a3-415d-8d27-81f44413e9fb",
   "metadata": {},
   "source": [
    "# OCR"
   ]
  },
  {
   "cell_type": "code",
   "execution_count": 1,
   "id": "1a1164f3",
   "metadata": {
    "tags": []
   },
   "outputs": [],
   "source": [
    "# Libraries\n",
    "from pathlib import Path\n",
    "import os\n",
    "import sys\n",
    "import csv\n",
    "import shutil\n",
    "import itertools\n",
    "import random\n",
    "import PIL\n",
    "import pytesseract\n",
    "import numpy as np\n",
    "import scipy.ndimage as nd\n",
    "import pandas as pd\n",
    "from collections import Counter\n",
    "from PIL import Image, ImageChops, ImageStat\n",
    "from random import sample\n",
    "import re\n",
    "import glob\n",
    "from datetime import datetime\n",
    "pytesseract.pytesseract.tesseract_cmd = r\"/usr/bin/tesseract\""
   ]
  },
  {
   "cell_type": "code",
   "execution_count": 2,
   "id": "6beecfe8-e9cd-4617-8e22-951b40304d6b",
   "metadata": {},
   "outputs": [
    {
     "data": {
      "text/plain": [
       "'Théatre I.911'"
      ]
     },
     "execution_count": 2,
     "metadata": {},
     "output_type": "execute_result"
    }
   ],
   "source": [
    "start_time = datetime.now()\n",
    "current_dir = os.getcwd()\n",
    "doc_name = os.path.basename(current_dir) \n",
    "doc_name"
   ]
  },
  {
   "cell_type": "code",
   "execution_count": 3,
   "id": "dce84d14-9269-42e3-ad8f-0d11f94153d9",
   "metadata": {},
   "outputs": [],
   "source": [
    "sys.path.append(\"/home/lucas-jerusalimiec/Documents/OCR Bin/Split\")\n",
    "from cropfunctions  import rotation_angle, trim, get_bands, simp_bd, combine_bbox\n",
    "from ocr_func import cutMarg, OCRtestImg, testList, tsvOCR, adjustImg"
   ]
  },
  {
   "cell_type": "code",
   "execution_count": 4,
   "id": "4470f4cd",
   "metadata": {
    "tags": []
   },
   "outputs": [
    {
     "name": "stdout",
     "output_type": "stream",
     "text": [
      "['eng', 'fra', 'frm', 'lat', 'osd']\n"
     ]
    }
   ],
   "source": [
    "# Display a list of languages in their 3-letter codes supported by Tesseract.\n",
    "print(pytesseract.get_languages(config=''))"
   ]
  },
  {
   "cell_type": "code",
   "execution_count": 5,
   "id": "f8f11e28-71c6-4c53-bca6-159cb7b1d70e",
   "metadata": {},
   "outputs": [],
   "source": [
    "# Create Directories\n",
    "output_folder = Path('./output')\n",
    "output_folder.mkdir(exist_ok=True)\n",
    "outDir = \"./output\"\n",
    "jpgs_folder = Path('./images')\n",
    "dirpath = \"./images\""
   ]
  },
  {
   "cell_type": "code",
   "execution_count": 6,
   "id": "53156945-734d-4c91-9180-e329ebd943ce",
   "metadata": {},
   "outputs": [
    {
     "name": "stdout",
     "output_type": "stream",
     "text": [
      "file n =  5\n"
     ]
    }
   ],
   "source": [
    "limit = len([name for name in os.listdir(jpgs_folder) if os.path.isfile(os.path.join(jpgs_folder, name))])\n",
    "print('file n = ', limit)"
   ]
  },
  {
   "cell_type": "code",
   "execution_count": 7,
   "id": "d2d24b6d-cddf-4869-9927-779e6bd93ff6",
   "metadata": {},
   "outputs": [
    {
     "name": "stdout",
     "output_type": "stream",
     "text": [
      "sample n =  2\n"
     ]
    }
   ],
   "source": [
    "if limit >= 20:\n",
    "    sample_n = 5\n",
    "elif limit >= 10:\n",
    "    sample_n = 3\n",
    "elif limit >= 5:\n",
    "    sample_n = 2\n",
    "else:\n",
    "    sample_n = 1\n",
    "    \n",
    "print('sample n = ', sample_n)"
   ]
  },
  {
   "cell_type": "code",
   "execution_count": null,
   "id": "45bf5911-a675-4761-9f23-7558f1fde0cb",
   "metadata": {},
   "outputs": [],
   "source": [
    "correct_sides = ['left', 'right']\n",
    "while True:\n",
    "    side_input = input('Please enter a starting side: ').lower()\n",
    "    if side_input in correct_sides:\n",
    "        break\n",
    "    else:\n",
    "        print('Incorrect value. Please try again.')"
   ]
  },
  {
   "cell_type": "code",
   "execution_count": null,
   "id": "a20279de-8b96-4821-b70d-ab083d59b970",
   "metadata": {},
   "outputs": [],
   "source": [
    "if side_input == 'right':\n",
    "    side_1 = 'right'\n",
    "    side_2 = 'left'\n",
    "elif side_input == 'left':\n",
    "    side_1 = 'left'\n",
    "    side_2 = 'right'\n",
    "\n",
    "side = [side_1 if i % 2 == 0 else side_2 for i in range(limit)]\n",
    "print(side[0:4])"
   ]
  },
  {
   "cell_type": "code",
   "execution_count": null,
   "id": "3790af8a-1033-4ff1-a415-72420e28d0f1",
   "metadata": {
    "scrolled": true
   },
   "outputs": [],
   "source": [
    "# List of metadata dictionaries\n",
    "meta = []\n",
    "count = 0\n",
    "# For each jpeg file in the rotated folder, do the following:\n",
    "for jpg in itertools.islice(sorted(jpgs_folder.rglob('*.jpg')), limit):\n",
    "        row_dict = dict()\n",
    "        row_dict[\"filename\"] = jpg.name\n",
    "        row_dict[\"side\"] = side[count]\n",
    "        row_dict[\"start_section\"] = False\n",
    "        row_dict[\"find_top\"] = False\n",
    "        row_dict[\"background\"] = 0\n",
    "        row_dict[\"bbox\"] = []\n",
    "        meta.append(row_dict)\n",
    "        count = count+1\n",
    "            \n",
    "print(meta[0])"
   ]
  },
  {
   "cell_type": "code",
   "execution_count": null,
   "id": "8f97d1db-db42-447c-9bb0-99bb8496bcfa",
   "metadata": {},
   "outputs": [],
   "source": [
    "# Extract find_top\n",
    "find_top = [d['find_top'] for d in meta]\n",
    "print(find_top[0:3])"
   ]
  },
  {
   "cell_type": "code",
   "execution_count": null,
   "id": "02b050fc-422f-47ad-82f6-e38ac9951e1a",
   "metadata": {
    "scrolled": true
   },
   "outputs": [],
   "source": [
    "#Combined rotation, greyscale (inverse), and trim workflow metadata\n",
    "### Convert multiple jpegs into a set of greyscale images ###\n",
    "buff=10\n",
    "background = []\n",
    "bbox = []\n",
    "fname = []\n",
    "diff_open = []\n",
    "angle = []\n",
    "count = 0\n",
    "# For each jpeg file in the rotated folder, do the following:\n",
    "for jpg in itertools.islice(sorted(jpgs_folder.rglob('*.jpg')), limit):\n",
    "    print(f'Processing {jpg.name}')\n",
    "    img = Image.open(jpg)\n",
    "    best_angle = rotation_angle(img)\n",
    "    diff0, background0, bbox0 = (trim(img, angle=best_angle, buff=buff, find_top = find_top[count]))\n",
    "    bbox.append(bbox0)\n",
    "    background.append(background0)\n",
    "    fname.append(jpg.name)\n",
    "    diff_open.append(diff0)\n",
    "    angle.append(best_angle)\n",
    "    count = count + 1\n",
    "\n",
    "print('Images successfully processed')"
   ]
  },
  {
   "cell_type": "code",
   "execution_count": null,
   "id": "346d508c-687c-4966-a7da-a4a541872b4a",
   "metadata": {
    "scrolled": true
   },
   "outputs": [],
   "source": [
    "# Update meta with diffs\n",
    "diff_list = []\n",
    "count = 0\n",
    "\n",
    "for file in fname:\n",
    "        diff_dict = dict()\n",
    "        diff_dict[\"filename\"] = fname[count]\n",
    "        diff_dict[\"bbox\"] = bbox[count]\n",
    "        diff_dict[\"background\"] = background[count]\n",
    "        diff_dict[\"angle\"] = angle[count]\n",
    "        diff_list.append(diff_dict)\n",
    "        count = count+1\n",
    "            \n",
    "for original_dict in meta:\n",
    "    for update_dict in diff_list:\n",
    "        if original_dict[\"filename\"] == update_dict[\"filename\"]:\n",
    "            original_dict.update(update_dict)     \n",
    "meta"
   ]
  },
  {
   "cell_type": "code",
   "execution_count": null,
   "id": "12654fd3-eb46-4efa-bb88-0892366962c6",
   "metadata": {
    "scrolled": true
   },
   "outputs": [],
   "source": [
    "#Bands creation workflow\n",
    "bheight = 50\n",
    "band_dict = []\n",
    "\n",
    "count = 0\n",
    "# For each jpeg file in the rotated folder, do the following:\n",
    "for jpg in itertools.islice(jpgs_folder.rglob('*.jpg'), limit):\n",
    "    print(f'Processing {jpg.name}')\n",
    "    band0 =  get_bands(diff_open[count], bheight=bheight)\n",
    "    band_dict.append(band0)\n",
    "    \n",
    "    count = count + 1\n",
    "\n",
    "print('Bands successfully created')"
   ]
  },
  {
   "cell_type": "code",
   "execution_count": null,
   "id": "cad40ad7-49ae-4a63-836e-d6ddf6b77534",
   "metadata": {
    "scrolled": true
   },
   "outputs": [],
   "source": [
    "#Bands application workflow\n",
    "count = 0\n",
    "cut_list = []\n",
    "pad = 10\n",
    "allow = (0.1, 0.3)\n",
    "freq = 0.8\n",
    "minfreq = 0.1\n",
    "\n",
    "for jpg in itertools.islice(sorted(jpgs_folder.rglob('*.jpg')), limit):\n",
    "    print(f'Processing {jpg.name}')\n",
    "    cut0 = simp_bd(band_dict=band_dict[count], diff=diff_open[count], side=side[count], width=diff_open[count].size[0],\n",
    "                   pad=pad, allow = allow, freq = freq, minfreq = minfreq)\n",
    "    cut_list.append(cut0)\n",
    "    count = count + 1\n",
    "\n",
    "print('Bands successfully applied')\n",
    "cut_list[0:3]"
   ]
  },
  {
   "cell_type": "code",
   "execution_count": null,
   "id": "14e09345-bda8-482b-a911-bf233c772e08",
   "metadata": {
    "scrolled": true
   },
   "outputs": [],
   "source": [
    "# Update meta with cuts\n",
    "count = 0\n",
    "cut_update=[]\n",
    "for file in fname:\n",
    "        cut_dict = dict()\n",
    "        cut_dict[\"filename\"] = fname[count]\n",
    "        cut_dict[\"cut\"] = cut_list[count]\n",
    "        cut_update.append(cut_dict)\n",
    "        count = count+1\n",
    "            \n",
    "for original_dict in meta:\n",
    "    for update_dict in cut_update:\n",
    "        if original_dict[\"filename\"] == update_dict[\"filename\"]:\n",
    "            original_dict.update(update_dict)     \n",
    "meta[0:3]"
   ]
  },
  {
   "cell_type": "code",
   "execution_count": null,
   "id": "affb4b31-f95d-4359-a3b3-116eea5ef5d1",
   "metadata": {},
   "outputs": [],
   "source": [
    "# create a bbox for the entire diff image\n",
    "out_bbox = []\n",
    "count = 0\n",
    "for jpg in itertools.islice(sorted(jpgs_folder.rglob('*.jpg')), limit):\n",
    "    out_bbox0 = [0, 0] + list(diff_open[count].size)\n",
    "    # Set the side value so that the function \n",
    "    # knows which bbox dimension to \"cut\"\n",
    "    side_dict = {\"left\":0, \"right\":2}\n",
    "    # Set the outer edge of the page equal to cut, \n",
    "    # rather than the original outer edge from diff\n",
    "    # This creates a bbox that is cropped to include \n",
    "    # only the main text areas of diff\n",
    "    side_0 = side[count]\n",
    "    out_bbox0[side_dict[side_0]] = cut_list[count]\n",
    "    out_bbox.append(out_bbox0)\n",
    "    count = count + 1\n",
    "\n",
    "print('Bbox margins successfully defined')\n",
    "out_bbox[0:3]"
   ]
  },
  {
   "cell_type": "code",
   "execution_count": null,
   "id": "a5857d25-5daf-4167-9b16-3617bb88e2ad",
   "metadata": {},
   "outputs": [],
   "source": [
    "#Creating cropped image boundaries\n",
    "total_bbox = []\n",
    "count = 0\n",
    "for jpg in itertools.islice(sorted(jpgs_folder.rglob('*.jpg')), limit):\n",
    "    total_bbox0 = combine_bbox(bbox[count], out_bbox[count])\n",
    "    total_bbox0=list(total_bbox0)\n",
    "    total_bbox.append(total_bbox0)\n",
    "    count = count + 1\n",
    "\n",
    "print('Bbox dimensions successfully adjusted')\n",
    "total_bbox[0:3]"
   ]
  },
  {
   "cell_type": "code",
   "execution_count": null,
   "id": "0794d019-9feb-4ff1-a193-41ae5e7e40a5",
   "metadata": {},
   "outputs": [],
   "source": [
    "# Extract angle\n",
    "angle_list = [d['angle'] for d in meta]\n",
    "print(angle_list[0:3])"
   ]
  },
  {
   "cell_type": "code",
   "execution_count": null,
   "id": "40bac9d1-c123-40c4-97b1-485ecd5687b9",
   "metadata": {},
   "outputs": [],
   "source": [
    "#metadata collected\n",
    "filename_list = [d['filename'] for d in meta]\n",
    "side_list = [d['side'] for d in meta]\n",
    "meta_final = []\n",
    "count = 0\n",
    "for jpg in itertools.islice(sorted(jpgs_folder.rglob('*.jpg')), limit):\n",
    "        meta_list = [filename_list[count], angle_list[count], side_list[count], cut_list[count]]\n",
    "        meta_list.extend(background[count])\n",
    "        meta_list.extend(total_bbox[count])\n",
    "        meta_final.append(meta_list)\n",
    "        count = count+1\n",
    " \n",
    "meta_final[0:3]"
   ]
  },
  {
   "cell_type": "code",
   "execution_count": null,
   "id": "d7b2a211-fa98-4afa-a927-77c2c835560e",
   "metadata": {},
   "outputs": [],
   "source": [
    "#metadata csv\n",
    "headers = [\"filename\",\"angle\",\"side\",\"cut\",\"backR\",\"backG\",\"backB\",\n",
    "           \"bbox1\",\"bbox2\",\"bbox3\",\"bbox4\"]\n",
    "with open(f'{outDir}/{doc_name}_metadata.csv',\"w\",newline=\"\") as outfile:\n",
    "    writer=csv.writer(outfile)\n",
    "    writer.writerow(headers)\n",
    "    for row in meta_final:\n",
    "        writer.writerow(row)"
   ]
  },
  {
   "cell_type": "code",
   "execution_count": null,
   "id": "237b8d19-86b9-43e0-9eff-7d22e477b516",
   "metadata": {},
   "outputs": [],
   "source": [
    "df = pd.read_csv(f'{outDir}/{doc_name}_metadata.csv')\n",
    "df.head()"
   ]
  },
  {
   "cell_type": "code",
   "execution_count": null,
   "id": "a5328218-9689-4542-9f3d-b2cba08a8cf7",
   "metadata": {},
   "outputs": [],
   "source": [
    "# Initialize variables\n",
    "metalist = f\"{outDir}/{doc_name}_metadata.csv\"\n",
    "csv1 = pd.read_csv(metalist)"
   ]
  },
  {
   "cell_type": "code",
   "execution_count": null,
   "id": "6c0f37e9-d026-4632-97a4-61202750a0fa",
   "metadata": {},
   "outputs": [],
   "source": [
    "pool = []\n",
    "csvf = csv1.set_index(\"filename\")\n",
    "#csvf = csv1[csv1[\"filename\"].str.startswith(doc_name)].set_index(\"filename\")\n",
    "csvf['file'] = csvf.index\n",
    "for row in csvf.itertuples():\n",
    "    pool.append(os.path.normpath(os.path.join(dirpath, row.file)))\n",
    "\n",
    "pool = sample(pool, sample_n)\n",
    "\n",
    "pool"
   ]
  },
  {
   "cell_type": "code",
   "execution_count": null,
   "id": "11034513-58e2-49f3-82bd-b498480a156b",
   "metadata": {},
   "outputs": [],
   "source": [
    "#Get images for files in sample, cut margins and make a test list\n",
    "imgs = []\n",
    "results = []\n",
    "\n",
    "for img in pool:\n",
    "\n",
    "    #get image name\n",
    "    name = os.path.split(img)[1]\n",
    "    print('Testing', name)\n",
    "    #get values for cutting margins\n",
    "    rotate = csvf.loc[name][\"angle\"]\n",
    "    left = csvf.loc[name][\"bbox1\"]\n",
    "    up = csvf.loc[name][\"bbox2\"]\n",
    "    right = csvf.loc[name][\"bbox3\"]\n",
    "    lower = csvf.loc[name][\"bbox4\"]\n",
    "    bkgcol = (csvf.loc[name][\"backR\"], csvf.loc[name][\"backG\"], csvf.loc[name][\"backB\"])\n",
    "\n",
    "    #cut the margins\n",
    "    img = cutMarg(img = img, rotate = rotate, left = left, up = up, right = right,\n",
    "                 lower = lower, border = 0, bkgcol = bkgcol)\n",
    "\n",
    "\n",
    "    #add the new image to the list\n",
    "    imgs.append(img)\n",
    "\n",
    "    #perform an OCR test on the new image and add the results to the list\n",
    "    results.append(OCRtestImg(img))"
   ]
  },
  {
   "cell_type": "code",
   "execution_count": null,
   "id": "b618f0ec-3f69-4124-9ec0-d8856d50d22f",
   "metadata": {},
   "outputs": [],
   "source": [
    "#create a testList object with the  images and results\n",
    "testSample = testList(imgs, results)"
   ]
  },
  {
   "cell_type": "code",
   "execution_count": null,
   "id": "55803e6b-affd-41a3-b89d-9c61073895e0",
   "metadata": {},
   "outputs": [],
   "source": [
    "#list of available tests\n",
    "print('conTests = [\"color\", \"brightness\", \"contrast\", \"autocontrast\", \"sharpness\"]')\n",
    "print('boolTests = [\"invert\", \"blur\", \"sharpen\", \"smooth\", \"xsmooth\"]')"
   ]
  },
  {
   "cell_type": "code",
   "execution_count": null,
   "id": "9632d317-7c8f-4ef6-bc56-7c45bfc668d9",
   "metadata": {},
   "outputs": [],
   "source": [
    "#set up a dict of recommended adjustments and perform tests\n",
    "adjustments = { \"volume\": doc_name, \"color\": 1.0, \"invert\": False, \n",
    "                \"autocontrast\": 0, \"blur\": False, \"sharpen\": False, \n",
    "                \"smooth\": False, \"xsmooth\": False }"
   ]
  },
  {
   "cell_type": "code",
   "execution_count": null,
   "id": "f3fe8455-a0d3-42b9-9d81-871dc0b61ad6",
   "metadata": {},
   "outputs": [],
   "source": [
    "#color test\n",
    "print(\"color test\")\n",
    "testRes = testSample.adjustTest(\"color\", levels = [1,.75,.5,.25,0])"
   ]
  },
  {
   "cell_type": "code",
   "execution_count": null,
   "id": "fd499bb8-7778-4ae7-a2dc-7a94e027e72e",
   "metadata": {},
   "outputs": [],
   "source": [
    "best = float(testRes[\"best_adjustment\"].replace(\"color\", \"\"))\n",
    "if best != 1.0:\n",
    "    testSample = testSample.adjustImg(color = best)\n",
    "    adjustments[\"color\"] = best\n",
    "    "
   ]
  },
  {
   "cell_type": "code",
   "execution_count": null,
   "id": "7f3cf65d-8cfd-4ae9-a62f-f18f4d2b2c5e",
   "metadata": {},
   "outputs": [],
   "source": [
    "#autocontrast test\n",
    "print(\"autocontrast test\")\n",
    "testRes = testSample.adjustTest(\"autocontrast\", levels = [0,2,4,6,8])\n",
    "best = float(testRes[\"best_adjustment\"].replace(\"autocontrast\", \"\"))\n",
    "if best != 0.0:\n",
    "    testSample = testSample.adjustImg(autocontrast = best)\n",
    "    adjustments[\"autocontrast\"] = best"
   ]
  },
  {
   "cell_type": "code",
   "execution_count": null,
   "id": "529668c4-3e09-4acc-9b4c-93610f7d16ff",
   "metadata": {},
   "outputs": [],
   "source": [
    "#blur test\n",
    "print(\"blur test\")\n",
    "testRes = testSample.adjustTest(\"blur\")\n",
    "if testRes[\"best_adjustment\"] == \"blurTrue\":\n",
    "    testSample = testSample.adjustImg(blur = True)\n",
    "    adjustments[\"blur\"] = True"
   ]
  },
  {
   "cell_type": "code",
   "execution_count": null,
   "id": "6c349fa5-3cd6-45b8-a4fa-0cc8a9c48063",
   "metadata": {},
   "outputs": [],
   "source": [
    "#sharpen test\n",
    "print(\"sharpen test\")\n",
    "testRes = testSample.adjustTest(\"sharpen\")\n",
    "if testRes[\"best_adjustment\"] == \"sharpenTrue\":\n",
    "    testSample = testSample.adjustImg(sharpen = True)\n",
    "    adjustments[\"sharpen\"] = True"
   ]
  },
  {
   "cell_type": "code",
   "execution_count": null,
   "id": "4f97eadf-2a13-486e-aafb-40bfa7fd5b23",
   "metadata": {},
   "outputs": [],
   "source": [
    "#smooth test\n",
    "print(\"smooth test\")\n",
    "testRes = testSample.adjustTest(\"smooth\")\n",
    "if testRes[\"best_adjustment\"] == \"smoothTrue\":\n",
    "    testSample = testSample.adjustImg(smooth = True)\n",
    "    adjustments[\"smooth\"] = True\n",
    "\n",
    "    #xsmooth test\n",
    "    print(\"xsmooth test\")\n",
    "    testRes = testSample.adjustTest(\"xsmooth\")\n",
    "    if testRes[\"best_adjustment\"] == \"xsmoothTrue\":\n",
    "        testSample = testSample.adjustImg(xsmooth = True)\n",
    "        adjustments[\"xsmooth\"] = True"
   ]
  },
  {
   "cell_type": "code",
   "execution_count": null,
   "id": "7c2d65d9-af8f-4452-8f8c-e4cc51b84c51",
   "metadata": {},
   "outputs": [],
   "source": [
    "#post-test adjustment levels\n",
    "adjustments\n",
    "adjustments_list = [*adjustments.values()]\n",
    "adjustments_list"
   ]
  },
  {
   "cell_type": "code",
   "execution_count": null,
   "id": "2417d6fe-869f-4952-9b6f-5dc2e34c3dd6",
   "metadata": {},
   "outputs": [],
   "source": [
    "#adjustments csv\n",
    "headers = [\"volume\",\"color\",\"invert\",\"autocontrast\",\"blur\",\"sharpen\",\"smooth\",\n",
    "           \"xsmooth\"]\n",
    "with open(f\"{outDir}/{doc_name}_adjustments.csv\",\"w\",newline=\"\") as outfile:\n",
    "    writer=csv.writer(outfile)\n",
    "    writer.writerow(headers)\n",
    "    writer.writerow(adjustments_list)"
   ]
  },
  {
   "cell_type": "code",
   "execution_count": null,
   "id": "85b8bef6-9d29-403b-9e5e-5168e5221105",
   "metadata": {},
   "outputs": [],
   "source": [
    "#Set paths for metadata files\n",
    "margdata = f\"{outDir}/{doc_name}_metadata.csv\"\n",
    "adjdata = f\"{outDir}/{doc_name}_adjustments.csv\"\n",
    "\n",
    "#Read metadata files into memory\n",
    "#Read csvs\n",
    "margcsv = pd.read_csv(margdata)\n",
    "adjcsv = pd.read_csv(adjdata)"
   ]
  },
  {
   "cell_type": "code",
   "execution_count": null,
   "id": "56a47ff8-4bc5-4d91-8252-4bda37030e50",
   "metadata": {},
   "outputs": [],
   "source": [
    "#merge csvs\n",
    "margcsv['key'] = 0\n",
    "adjcsv['key'] = 0\n",
    "\n",
    "# Perform the Cartesian product\n",
    "fulldata = pd.merge(margcsv, adjcsv, on='key')\n",
    "\n",
    "# Drop the temporary key column\n",
    "fulldata.drop('key', axis=1, inplace=True)\n",
    "\n",
    "# Save the combined dataframe to a new CSV file\n",
    "fulldata.to_csv(f'{outDir}/{doc_name}_fulldata.csv', index=False)"
   ]
  },
  {
   "cell_type": "code",
   "execution_count": null,
   "id": "159d16b5-4271-4d6a-ac25-185a42cbdb9c",
   "metadata": {},
   "outputs": [],
   "source": [
    "#create OCR files\n",
    "fulldata_path = f\"{outDir}/{doc_name}_fulldata.csv\"\n",
    "fulldata = pd.read_csv(fulldata_path)\n",
    "#Loop through section\n",
    "for row in fulldata.itertuples():\n",
    "\n",
    "    img = os.path.normpath(os.path.join(dirpath, row.filename))\n",
    "    print(datetime.now().strftime(\"%H:%M\") + \" Processing \" + row.filename + \"...\")\n",
    "\n",
    "    #set up margin cutting\n",
    "    cuts = {\"rotate\" : row.angle,\n",
    "            \"left\" : row.bbox1,\n",
    "            \"up\" : row.bbox2,\n",
    "            \"right\" : row.bbox3,\n",
    "            \"lower\" : row.bbox4,\n",
    "            \"border\" : 0,\n",
    "            \"bkgcol\" : (row.backR, row.backG, row.backB)}\n",
    "\n",
    "    #set up image adjustment            \n",
    "    adjustments = {\"color\": row.color, \n",
    "                   \"autocontrast\": row.autocontrast,\n",
    "                   \"blur\": row.blur,\n",
    "                   \"sharpen\": row.sharpen,\n",
    "                   \"smooth\": row.smooth,\n",
    "                   \"xsmooth\": row.xsmooth}\n",
    "\n",
    "    #OCR the image\n",
    "    tsvOCR((adjustImg(cutMarg(img, **cuts), **adjustments)), \n",
    "           savpath = os.path.normpath(os.path.join(outDir, doc_name + \".txt\")),\n",
    "           tsvfile = doc_name + \"_data.tsv\")\n",
    "\n",
    "print('Done OCR job')"
   ]
  },
  {
   "cell_type": "code",
   "execution_count": null,
   "id": "5c61eb27-888c-4f2d-b14d-f02a2509356a",
   "metadata": {},
   "outputs": [],
   "source": [
    "end_time = datetime.now()\n",
    "time_consumed = end_time - start_time\n",
    "avg_time = time_consumed / limit\n",
    "print(f'Time consumed by {doc_name} notebook run: {time_consumed}')\n",
    "print(f'{limit} pages')\n",
    "print(f'{avg_time} per page')"
   ]
  }
 ],
 "metadata": {
  "kernelspec": {
   "display_name": "Python 3 (ipykernel)",
   "language": "python",
   "name": "python3"
  },
  "language_info": {
   "codemirror_mode": {
    "name": "ipython",
    "version": 3
   },
   "file_extension": ".py",
   "mimetype": "text/x-python",
   "name": "python",
   "nbconvert_exporter": "python",
   "pygments_lexer": "ipython3",
   "version": "3.12.4"
  },
  "toc": {
   "base_numbering": 1,
   "nav_menu": {},
   "number_sections": true,
   "sideBar": true,
   "skip_h1_title": true,
   "title_cell": "Table of Contents",
   "title_sidebar": "Contents",
   "toc_cell": false,
   "toc_position": {},
   "toc_section_display": true,
   "toc_window_display": false
  }
 },
 "nbformat": 4,
 "nbformat_minor": 5
}
