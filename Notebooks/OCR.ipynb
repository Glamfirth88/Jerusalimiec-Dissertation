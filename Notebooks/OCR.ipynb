{
 "cells": [
  {
   "cell_type": "raw",
   "id": "177a5273-f5a3-415d-8d27-81f44413e9fb",
   "metadata": {},
   "source": [
    "# OCR"
   ]
  },
  {
   "cell_type": "code",
   "execution_count": 1,
   "id": "1a1164f3",
   "metadata": {
    "tags": []
   },
   "outputs": [],
   "source": [
    "# Libraries\n",
    "from pathlib import Path\n",
    "import os\n",
    "import sys\n",
    "import csv\n",
    "import shutil\n",
    "import itertools\n",
    "import random\n",
    "import PIL\n",
    "import pytesseract\n",
    "import numpy as np\n",
    "import scipy.ndimage as nd\n",
    "import pandas as pd\n",
    "from collections import Counter\n",
    "from PIL import Image, ImageChops, ImageStat\n",
    "from random import sample\n",
    "import re\n",
    "import glob\n",
    "from datetime import datetime\n",
    "pytesseract.pytesseract.tesseract_cmd = r\"/usr/bin/tesseract\""
   ]
  },
  {
   "cell_type": "code",
   "execution_count": 2,
   "id": "6beecfe8-e9cd-4617-8e22-951b40304d6b",
   "metadata": {},
   "outputs": [
    {
     "data": {
      "text/plain": [
       "'Harangue - Orléans'"
      ]
     },
     "execution_count": 2,
     "metadata": {},
     "output_type": "execute_result"
    }
   ],
   "source": [
    "start_time = datetime.now()\n",
    "current_dir = os.getcwd()\n",
    "doc_name = os.path.basename(current_dir) \n",
    "doc_name"
   ]
  },
  {
   "cell_type": "code",
   "execution_count": 3,
   "id": "dce84d14-9269-42e3-ad8f-0d11f94153d9",
   "metadata": {},
   "outputs": [],
   "source": [
    "sys.path.append(\"/home/lucas-jerusalimiec/Documents/OCR Bin/Split\")\n",
    "from cropfunctions  import rotation_angle, trim, get_bands, simp_bd, combine_bbox\n",
    "from ocr_func import cutMarg, OCRtestImg, testList, tsvOCR, adjustImg"
   ]
  },
  {
   "cell_type": "code",
   "execution_count": 4,
   "id": "4470f4cd",
   "metadata": {
    "tags": []
   },
   "outputs": [
    {
     "name": "stdout",
     "output_type": "stream",
     "text": [
      "['eng', 'fra', 'frm', 'lat', 'osd']\n"
     ]
    }
   ],
   "source": [
    "# Display a list of languages in their 3-letter codes supported by Tesseract.\n",
    "print(pytesseract.get_languages(config=''))"
   ]
  },
  {
   "cell_type": "code",
   "execution_count": 5,
   "id": "f8f11e28-71c6-4c53-bca6-159cb7b1d70e",
   "metadata": {},
   "outputs": [],
   "source": [
    "# Create Directories\n",
    "output_folder = Path('./output')\n",
    "output_folder.mkdir(exist_ok=True)\n",
    "outDir = \"./output\"\n",
    "jpgs_folder = Path('./images')\n",
    "dirpath = \"./images\""
   ]
  },
  {
   "cell_type": "code",
   "execution_count": 6,
   "id": "53156945-734d-4c91-9180-e329ebd943ce",
   "metadata": {},
   "outputs": [
    {
     "name": "stdout",
     "output_type": "stream",
     "text": [
      "file n =  33\n"
     ]
    }
   ],
   "source": [
    "limit = len([name for name in os.listdir(jpgs_folder) if os.path.isfile(os.path.join(jpgs_folder, name))])\n",
    "print('file n = ', limit)"
   ]
  },
  {
   "cell_type": "code",
   "execution_count": 7,
   "id": "d2d24b6d-cddf-4869-9927-779e6bd93ff6",
   "metadata": {},
   "outputs": [
    {
     "name": "stdout",
     "output_type": "stream",
     "text": [
      "sample n =  5\n"
     ]
    }
   ],
   "source": [
    "if limit >= 20:\n",
    "    sample_n = 5\n",
    "elif limit >= 10:\n",
    "    sample_n = 3\n",
    "elif limit >= 5:\n",
    "    sample_n = 2\n",
    "else:\n",
    "    sample_n = 1\n",
    "    \n",
    "print('sample n = ', sample_n)"
   ]
  },
  {
   "cell_type": "code",
   "execution_count": 8,
   "id": "45bf5911-a675-4761-9f23-7558f1fde0cb",
   "metadata": {},
   "outputs": [
    {
     "name": "stdin",
     "output_type": "stream",
     "text": [
      "Please enter a starting side:  right\n"
     ]
    }
   ],
   "source": [
    "correct_sides = ['left', 'right']\n",
    "while True:\n",
    "    side_input = input('Please enter a starting side: ').lower()\n",
    "    if side_input in correct_sides:\n",
    "        break\n",
    "    else:\n",
    "        print('Incorrect value. Please try again.')"
   ]
  },
  {
   "cell_type": "code",
   "execution_count": 9,
   "id": "a20279de-8b96-4821-b70d-ab083d59b970",
   "metadata": {},
   "outputs": [
    {
     "name": "stdout",
     "output_type": "stream",
     "text": [
      "['right', 'left', 'right', 'left']\n"
     ]
    }
   ],
   "source": [
    "if side_input == 'right':\n",
    "    side_1 = 'right'\n",
    "    side_2 = 'left'\n",
    "elif side_input == 'left':\n",
    "    side_1 = 'left'\n",
    "    side_2 = 'right'\n",
    "\n",
    "side = [side_1 if i % 2 == 0 else side_2 for i in range(limit)]\n",
    "print(side[0:4])"
   ]
  },
  {
   "cell_type": "code",
   "execution_count": 10,
   "id": "3790af8a-1033-4ff1-a415-72420e28d0f1",
   "metadata": {
    "scrolled": true
   },
   "outputs": [
    {
     "name": "stdout",
     "output_type": "stream",
     "text": [
      "{'filename': 'Harangue - Orléans_image_0000.jpg', 'side': 'right', 'start_section': False, 'find_top': True, 'background': 0, 'bbox': []}\n"
     ]
    }
   ],
   "source": [
    "# List of metadata dictionaries\n",
    "meta = []\n",
    "count = 0\n",
    "# For each jpeg file in the rotated folder, do the following:\n",
    "for jpg in itertools.islice(sorted(jpgs_folder.glob('*.jpg')), limit):\n",
    "        row_dict = dict()\n",
    "        row_dict[\"filename\"] = jpg.name\n",
    "        row_dict[\"side\"] = side[count]\n",
    "        row_dict[\"start_section\"] = False\n",
    "        #row_dict[\"find_top\"] = False\n",
    "        row_dict[\"find_top\"] = jpg.name.endswith('0000.jpg')\n",
    "        row_dict[\"background\"] = 0\n",
    "        row_dict[\"bbox\"] = []\n",
    "        meta.append(row_dict)\n",
    "        count = count+1\n",
    "            \n",
    "print(meta[0])"
   ]
  },
  {
   "cell_type": "code",
   "execution_count": 11,
   "id": "8f97d1db-db42-447c-9bb0-99bb8496bcfa",
   "metadata": {},
   "outputs": [
    {
     "name": "stdout",
     "output_type": "stream",
     "text": [
      "[True, False, False]\n"
     ]
    }
   ],
   "source": [
    "# Extract find_top\n",
    "find_top = [d['find_top'] for d in meta]\n",
    "print(find_top[0:3])"
   ]
  },
  {
   "cell_type": "code",
   "execution_count": 12,
   "id": "02b050fc-422f-47ad-82f6-e38ac9951e1a",
   "metadata": {
    "scrolled": true
   },
   "outputs": [
    {
     "name": "stdout",
     "output_type": "stream",
     "text": [
      "Processing Harangue - Orléans_image_0000.jpg\n",
      "Processing Harangue - Orléans_image_0001.jpg\n",
      "Processing Harangue - Orléans_image_0002.jpg\n",
      "Processing Harangue - Orléans_image_0003.jpg\n",
      "Processing Harangue - Orléans_image_0004.jpg\n",
      "Processing Harangue - Orléans_image_0005.jpg\n",
      "Processing Harangue - Orléans_image_0006.jpg\n",
      "Processing Harangue - Orléans_image_0007.jpg\n",
      "Processing Harangue - Orléans_image_0008.jpg\n",
      "Processing Harangue - Orléans_image_0009.jpg\n",
      "Processing Harangue - Orléans_image_0010.jpg\n",
      "Processing Harangue - Orléans_image_0011.jpg\n",
      "Processing Harangue - Orléans_image_0012.jpg\n",
      "Processing Harangue - Orléans_image_0013.jpg\n",
      "Processing Harangue - Orléans_image_0014.jpg\n",
      "Processing Harangue - Orléans_image_0015.jpg\n",
      "Processing Harangue - Orléans_image_0016.jpg\n",
      "Processing Harangue - Orléans_image_0017.jpg\n",
      "Processing Harangue - Orléans_image_0018.jpg\n",
      "Processing Harangue - Orléans_image_0019.jpg\n",
      "Processing Harangue - Orléans_image_0020.jpg\n",
      "Processing Harangue - Orléans_image_0021.jpg\n",
      "Processing Harangue - Orléans_image_0022.jpg\n",
      "Processing Harangue - Orléans_image_0023.jpg\n",
      "Processing Harangue - Orléans_image_0024.jpg\n",
      "Processing Harangue - Orléans_image_0025.jpg\n",
      "Processing Harangue - Orléans_image_0026.jpg\n",
      "Processing Harangue - Orléans_image_0027.jpg\n",
      "Processing Harangue - Orléans_image_0028.jpg\n",
      "Processing Harangue - Orléans_image_0029.jpg\n",
      "Processing Harangue - Orléans_image_0030.jpg\n",
      "Processing Harangue - Orléans_image_0031.jpg\n",
      "Processing Harangue - Orléans_image_0032.jpg\n",
      "Images successfully processed\n"
     ]
    }
   ],
   "source": [
    "#Combined rotation, greyscale (inverse), and trim workflow metadata\n",
    "### Convert multiple jpegs into a set of greyscale images ###\n",
    "buff=10\n",
    "background = []\n",
    "bbox = []\n",
    "fname = []\n",
    "diff_open = []\n",
    "angle = []\n",
    "count = 0\n",
    "# For each jpeg file in the rotated folder, do the following:\n",
    "for jpg in itertools.islice(sorted(jpgs_folder.glob('*.jpg')), limit):\n",
    "    print(f'Processing {jpg.name}')\n",
    "    img = Image.open(jpg)\n",
    "    best_angle = rotation_angle(img)\n",
    "    diff0, background0, bbox0 = (trim(img, angle=best_angle, buff=buff, find_top = find_top[count]))\n",
    "    bbox.append(bbox0)\n",
    "    background.append(background0)\n",
    "    fname.append(jpg.name)\n",
    "    diff_open.append(diff0)\n",
    "    angle.append(best_angle)\n",
    "    count = count + 1\n",
    "\n",
    "print('Images successfully processed')"
   ]
  },
  {
   "cell_type": "code",
   "execution_count": 13,
   "id": "346d508c-687c-4966-a7da-a4a541872b4a",
   "metadata": {
    "scrolled": true
   },
   "outputs": [
    {
     "data": {
      "text/plain": [
       "[{'filename': 'Harangue - Orléans_image_0000.jpg',\n",
       "  'side': 'right',\n",
       "  'start_section': False,\n",
       "  'find_top': True,\n",
       "  'background': (255, 255, 255),\n",
       "  'bbox': (781, 508, 2775, 3665),\n",
       "  'angle': -0.25},\n",
       " {'filename': 'Harangue - Orléans_image_0001.jpg',\n",
       "  'side': 'left',\n",
       "  'start_section': False,\n",
       "  'find_top': False,\n",
       "  'background': (255, 255, 255),\n",
       "  'bbox': (777, 269, 2774, 3770),\n",
       "  'angle': 0.0},\n",
       " {'filename': 'Harangue - Orléans_image_0002.jpg',\n",
       "  'side': 'right',\n",
       "  'start_section': False,\n",
       "  'find_top': False,\n",
       "  'background': (255, 255, 255),\n",
       "  'bbox': (778, 261, 2803, 3671),\n",
       "  'angle': 0.0},\n",
       " {'filename': 'Harangue - Orléans_image_0003.jpg',\n",
       "  'side': 'left',\n",
       "  'start_section': False,\n",
       "  'find_top': False,\n",
       "  'background': (255, 255, 255),\n",
       "  'bbox': (746, 163, 2782, 3748),\n",
       "  'angle': 0.0},\n",
       " {'filename': 'Harangue - Orléans_image_0004.jpg',\n",
       "  'side': 'right',\n",
       "  'start_section': False,\n",
       "  'find_top': False,\n",
       "  'background': (255, 255, 255),\n",
       "  'bbox': (779, 267, 2780, 3675),\n",
       "  'angle': 0.0},\n",
       " {'filename': 'Harangue - Orléans_image_0005.jpg',\n",
       "  'side': 'left',\n",
       "  'start_section': False,\n",
       "  'find_top': False,\n",
       "  'background': (255, 255, 255),\n",
       "  'bbox': (736, 246, 2776, 3677),\n",
       "  'angle': 0.0},\n",
       " {'filename': 'Harangue - Orléans_image_0006.jpg',\n",
       "  'side': 'right',\n",
       "  'start_section': False,\n",
       "  'find_top': False,\n",
       "  'background': (255, 255, 255),\n",
       "  'bbox': (779, 238, 2774, 3644),\n",
       "  'angle': 0.0},\n",
       " {'filename': 'Harangue - Orléans_image_0007.jpg',\n",
       "  'side': 'left',\n",
       "  'start_section': False,\n",
       "  'find_top': False,\n",
       "  'background': (255, 255, 255),\n",
       "  'bbox': (782, 259, 2774, 3721),\n",
       "  'angle': 0.0},\n",
       " {'filename': 'Harangue - Orléans_image_0008.jpg',\n",
       "  'side': 'right',\n",
       "  'start_section': False,\n",
       "  'find_top': False,\n",
       "  'background': (255, 255, 255),\n",
       "  'bbox': (766, 222, 2790, 3630),\n",
       "  'angle': 0.0},\n",
       " {'filename': 'Harangue - Orléans_image_0009.jpg',\n",
       "  'side': 'left',\n",
       "  'start_section': False,\n",
       "  'find_top': False,\n",
       "  'background': (255, 255, 255),\n",
       "  'bbox': (787, 222, 2776, 3693),\n",
       "  'angle': 0.0},\n",
       " {'filename': 'Harangue - Orléans_image_0010.jpg',\n",
       "  'side': 'right',\n",
       "  'start_section': False,\n",
       "  'find_top': False,\n",
       "  'background': (255, 255, 255),\n",
       "  'bbox': (771, 234, 2785, 3731),\n",
       "  'angle': 0.0},\n",
       " {'filename': 'Harangue - Orléans_image_0011.jpg',\n",
       "  'side': 'left',\n",
       "  'start_section': False,\n",
       "  'find_top': False,\n",
       "  'background': (255, 255, 255),\n",
       "  'bbox': (775, 198, 2782, 3670),\n",
       "  'angle': 0.0},\n",
       " {'filename': 'Harangue - Orléans_image_0012.jpg',\n",
       "  'side': 'right',\n",
       "  'start_section': False,\n",
       "  'find_top': False,\n",
       "  'background': (255, 255, 255),\n",
       "  'bbox': (772, 227, 2784, 3739),\n",
       "  'angle': 0.0},\n",
       " {'filename': 'Harangue - Orléans_image_0013.jpg',\n",
       "  'side': 'left',\n",
       "  'start_section': False,\n",
       "  'find_top': False,\n",
       "  'background': (255, 255, 255),\n",
       "  'bbox': (777, 186, 2776, 3648),\n",
       "  'angle': 0.0},\n",
       " {'filename': 'Harangue - Orléans_image_0014.jpg',\n",
       "  'side': 'right',\n",
       "  'start_section': False,\n",
       "  'find_top': False,\n",
       "  'background': (255, 255, 255),\n",
       "  'bbox': (783, 224, 2774, 3697),\n",
       "  'angle': 0.0},\n",
       " {'filename': 'Harangue - Orléans_image_0015.jpg',\n",
       "  'side': 'left',\n",
       "  'start_section': False,\n",
       "  'find_top': False,\n",
       "  'background': (255, 255, 255),\n",
       "  'bbox': (770, 218, 2783, 4003),\n",
       "  'angle': 0.25},\n",
       " {'filename': 'Harangue - Orléans_image_0016.jpg',\n",
       "  'side': 'right',\n",
       "  'start_section': False,\n",
       "  'find_top': False,\n",
       "  'background': (255, 255, 255),\n",
       "  'bbox': (778, 259, 2778, 3699),\n",
       "  'angle': 0.0},\n",
       " {'filename': 'Harangue - Orléans_image_0017.jpg',\n",
       "  'side': 'left',\n",
       "  'start_section': False,\n",
       "  'find_top': False,\n",
       "  'background': (255, 255, 255),\n",
       "  'bbox': (771, 224, 2784, 3697),\n",
       "  'angle': 0.0},\n",
       " {'filename': 'Harangue - Orléans_image_0018.jpg',\n",
       "  'side': 'right',\n",
       "  'start_section': False,\n",
       "  'find_top': False,\n",
       "  'background': (255, 255, 255),\n",
       "  'bbox': (773, 257, 2791, 3678),\n",
       "  'angle': 0.0},\n",
       " {'filename': 'Harangue - Orléans_image_0019.jpg',\n",
       "  'side': 'left',\n",
       "  'start_section': False,\n",
       "  'find_top': False,\n",
       "  'background': (255, 255, 255),\n",
       "  'bbox': (785, 216, 2770, 3693),\n",
       "  'angle': 0.0},\n",
       " {'filename': 'Harangue - Orléans_image_0020.jpg',\n",
       "  'side': 'right',\n",
       "  'start_section': False,\n",
       "  'find_top': False,\n",
       "  'background': (255, 255, 255),\n",
       "  'bbox': (774, 253, 2780, 3672),\n",
       "  'angle': 0.0},\n",
       " {'filename': 'Harangue - Orléans_image_0021.jpg',\n",
       "  'side': 'left',\n",
       "  'start_section': False,\n",
       "  'find_top': False,\n",
       "  'background': (255, 255, 255),\n",
       "  'bbox': (785, 88, 2770, 3731),\n",
       "  'angle': 0.0},\n",
       " {'filename': 'Harangue - Orléans_image_0022.jpg',\n",
       "  'side': 'right',\n",
       "  'start_section': False,\n",
       "  'find_top': False,\n",
       "  'background': (255, 255, 255),\n",
       "  'bbox': (785, 198, 2770, 3620),\n",
       "  'angle': 0.0},\n",
       " {'filename': 'Harangue - Orléans_image_0023.jpg',\n",
       "  'side': 'left',\n",
       "  'start_section': False,\n",
       "  'find_top': False,\n",
       "  'background': (255, 255, 255),\n",
       "  'bbox': (770, 175, 2778, 3485),\n",
       "  'angle': 0.0},\n",
       " {'filename': 'Harangue - Orléans_image_0024.jpg',\n",
       "  'side': 'right',\n",
       "  'start_section': False,\n",
       "  'find_top': False,\n",
       "  'background': (255, 255, 255),\n",
       "  'bbox': (770, 210, 2772, 3620),\n",
       "  'angle': 0.0},\n",
       " {'filename': 'Harangue - Orléans_image_0025.jpg',\n",
       "  'side': 'left',\n",
       "  'start_section': False,\n",
       "  'find_top': False,\n",
       "  'background': (255, 255, 255),\n",
       "  'bbox': (778, 196, 2810, 4116),\n",
       "  'angle': 0.0},\n",
       " {'filename': 'Harangue - Orléans_image_0026.jpg',\n",
       "  'side': 'right',\n",
       "  'start_section': False,\n",
       "  'find_top': False,\n",
       "  'background': (255, 255, 255),\n",
       "  'bbox': (783, 192, 2772, 3693),\n",
       "  'angle': 0.0},\n",
       " {'filename': 'Harangue - Orléans_image_0027.jpg',\n",
       "  'side': 'left',\n",
       "  'start_section': False,\n",
       "  'find_top': False,\n",
       "  'background': (255, 255, 255),\n",
       "  'bbox': (791, 147, 2764, 3481),\n",
       "  'angle': 0.0},\n",
       " {'filename': 'Harangue - Orléans_image_0028.jpg',\n",
       "  'side': 'right',\n",
       "  'start_section': False,\n",
       "  'find_top': False,\n",
       "  'background': (255, 255, 255),\n",
       "  'bbox': (787, 175, 2768, 3532),\n",
       "  'angle': 0.0},\n",
       " {'filename': 'Harangue - Orléans_image_0029.jpg',\n",
       "  'side': 'left',\n",
       "  'start_section': False,\n",
       "  'find_top': False,\n",
       "  'background': (255, 255, 255),\n",
       "  'bbox': (780, 165, 2776, 3587),\n",
       "  'angle': 0.0},\n",
       " {'filename': 'Harangue - Orléans_image_0030.jpg',\n",
       "  'side': 'right',\n",
       "  'start_section': False,\n",
       "  'find_top': False,\n",
       "  'background': (255, 255, 255),\n",
       "  'bbox': (781, 312, 2771, 3724),\n",
       "  'angle': 0.25},\n",
       " {'filename': 'Harangue - Orléans_image_0031.jpg',\n",
       "  'side': 'left',\n",
       "  'start_section': False,\n",
       "  'find_top': False,\n",
       "  'background': (255, 255, 255),\n",
       "  'bbox': (779, 314, 2776, 3768),\n",
       "  'angle': 0.0},\n",
       " {'filename': 'Harangue - Orléans_image_0032.jpg',\n",
       "  'side': 'right',\n",
       "  'start_section': False,\n",
       "  'find_top': False,\n",
       "  'background': (255, 255, 255),\n",
       "  'bbox': (791, 293, 2768, 3707),\n",
       "  'angle': 0.0}]"
      ]
     },
     "execution_count": 13,
     "metadata": {},
     "output_type": "execute_result"
    }
   ],
   "source": [
    "# Update meta with diffs\n",
    "diff_list = []\n",
    "count = 0\n",
    "\n",
    "for file in fname:\n",
    "        diff_dict = dict()\n",
    "        diff_dict[\"filename\"] = fname[count]\n",
    "        diff_dict[\"bbox\"] = bbox[count]\n",
    "        diff_dict[\"background\"] = background[count]\n",
    "        diff_dict[\"angle\"] = angle[count]\n",
    "        diff_list.append(diff_dict)\n",
    "        count = count+1\n",
    "            \n",
    "for original_dict in meta:\n",
    "    for update_dict in diff_list:\n",
    "        if original_dict[\"filename\"] == update_dict[\"filename\"]:\n",
    "            original_dict.update(update_dict)     \n",
    "meta"
   ]
  },
  {
   "cell_type": "code",
   "execution_count": 14,
   "id": "12654fd3-eb46-4efa-bb88-0892366962c6",
   "metadata": {
    "scrolled": true
   },
   "outputs": [
    {
     "name": "stdout",
     "output_type": "stream",
     "text": [
      "Processing Harangue - Orléans_image_0000.jpg\n",
      "Processing Harangue - Orléans_image_0019.jpg\n",
      "Processing Harangue - Orléans_image_0020.jpg\n",
      "Processing Harangue - Orléans_image_0013.jpg\n",
      "Processing Harangue - Orléans_image_0007.jpg\n",
      "Processing Harangue - Orléans_image_0014.jpg\n",
      "Processing Harangue - Orléans_image_0023.jpg\n",
      "Processing Harangue - Orléans_image_0026.jpg\n",
      "Processing Harangue - Orléans_image_0021.jpg\n",
      "Processing Harangue - Orléans_image_0022.jpg\n",
      "Processing Harangue - Orléans_image_0028.jpg\n",
      "Processing Harangue - Orléans_image_0008.jpg\n",
      "Processing Harangue - Orléans_image_0016.jpg\n",
      "Processing Harangue - Orléans_image_0015.jpg\n",
      "Processing Harangue - Orléans_image_0025.jpg\n",
      "Processing Harangue - Orléans_image_0011.jpg\n",
      "Processing Harangue - Orléans_image_0009.jpg\n",
      "Processing Harangue - Orléans_image_0032.jpg\n",
      "Processing Harangue - Orléans_image_0006.jpg\n",
      "Processing Harangue - Orléans_image_0018.jpg\n",
      "Processing Harangue - Orléans_image_0030.jpg\n",
      "Processing Harangue - Orléans_image_0024.jpg\n",
      "Processing Harangue - Orléans_image_0005.jpg\n",
      "Processing Harangue - Orléans_image_0002.jpg\n",
      "Processing Harangue - Orléans_image_0027.jpg\n",
      "Processing Harangue - Orléans_image_0004.jpg\n",
      "Processing Harangue - Orléans_image_0012.jpg\n",
      "Processing Harangue - Orléans_image_0003.jpg\n",
      "Processing Harangue - Orléans_image_0010.jpg\n",
      "Processing Harangue - Orléans_image_0031.jpg\n",
      "Processing Harangue - Orléans_image_0017.jpg\n",
      "Processing Harangue - Orléans_image_0029.jpg\n",
      "Processing Harangue - Orléans_image_0001.jpg\n",
      "Bands successfully created\n"
     ]
    }
   ],
   "source": [
    "#Bands creation workflow\n",
    "bheight = 50\n",
    "band_dict = []\n",
    "\n",
    "count = 0\n",
    "# For each jpeg file in the rotated folder, do the following:\n",
    "for jpg in itertools.islice(jpgs_folder.glob('*.jpg'), limit):\n",
    "    print(f'Processing {jpg.name}')\n",
    "    band0 =  get_bands(diff_open[count], bheight=bheight)\n",
    "    band_dict.append(band0)\n",
    "    \n",
    "    count = count + 1\n",
    "\n",
    "print('Bands successfully created')"
   ]
  },
  {
   "cell_type": "code",
   "execution_count": 15,
   "id": "cad40ad7-49ae-4a63-836e-d6ddf6b77534",
   "metadata": {
    "scrolled": true
   },
   "outputs": [
    {
     "name": "stdout",
     "output_type": "stream",
     "text": [
      "Processing Harangue - Orléans_image_0000.jpg\n",
      "Processing Harangue - Orléans_image_0001.jpg\n",
      "Processing Harangue - Orléans_image_0002.jpg\n",
      "Processing Harangue - Orléans_image_0003.jpg\n",
      "Processing Harangue - Orléans_image_0004.jpg\n",
      "Processing Harangue - Orléans_image_0005.jpg\n",
      "Processing Harangue - Orléans_image_0006.jpg\n",
      "Processing Harangue - Orléans_image_0007.jpg\n",
      "Processing Harangue - Orléans_image_0008.jpg\n",
      "Processing Harangue - Orléans_image_0009.jpg\n",
      "Processing Harangue - Orléans_image_0010.jpg\n",
      "Processing Harangue - Orléans_image_0011.jpg\n",
      "Processing Harangue - Orléans_image_0012.jpg\n",
      "Processing Harangue - Orléans_image_0013.jpg\n",
      "Processing Harangue - Orléans_image_0014.jpg\n",
      "Processing Harangue - Orléans_image_0015.jpg\n",
      "Processing Harangue - Orléans_image_0016.jpg\n",
      "Processing Harangue - Orléans_image_0017.jpg\n",
      "Processing Harangue - Orléans_image_0018.jpg\n",
      "Processing Harangue - Orléans_image_0019.jpg\n",
      "Processing Harangue - Orléans_image_0020.jpg\n",
      "Processing Harangue - Orléans_image_0021.jpg\n",
      "Processing Harangue - Orléans_image_0022.jpg\n",
      "Processing Harangue - Orléans_image_0023.jpg\n",
      "Processing Harangue - Orléans_image_0024.jpg\n",
      "Processing Harangue - Orléans_image_0025.jpg\n",
      "Processing Harangue - Orléans_image_0026.jpg\n",
      "Processing Harangue - Orléans_image_0027.jpg\n",
      "Processing Harangue - Orléans_image_0028.jpg\n",
      "Processing Harangue - Orléans_image_0029.jpg\n",
      "Processing Harangue - Orléans_image_0030.jpg\n",
      "Processing Harangue - Orléans_image_0031.jpg\n",
      "Processing Harangue - Orléans_image_0032.jpg\n",
      "Bands successfully applied\n"
     ]
    },
    {
     "data": {
      "text/plain": [
       "[1994, 0, 1730]"
      ]
     },
     "execution_count": 15,
     "metadata": {},
     "output_type": "execute_result"
    }
   ],
   "source": [
    "#Bands application workflow\n",
    "count = 0\n",
    "cut_list = []\n",
    "pad = 10\n",
    "#allow = (0.1, 0.3) parameters for Bodin\n",
    "allow = (0.1, 0.1) # parameters for L'Hospital\n",
    "freq = 0.8\n",
    "minfreq = 0.1\n",
    "\n",
    "for jpg in itertools.islice(sorted(jpgs_folder.glob('*.jpg')), limit):\n",
    "    print(f'Processing {jpg.name}')\n",
    "    cut0 = simp_bd(band_dict=band_dict[count], diff=diff_open[count], side=side[count], width=diff_open[count].size[0],\n",
    "                   pad=pad, allow = allow, freq = freq, minfreq = minfreq)\n",
    "    cut_list.append(cut0)\n",
    "    count = count + 1\n",
    "\n",
    "print('Bands successfully applied')\n",
    "cut_list[0:3]"
   ]
  },
  {
   "cell_type": "code",
   "execution_count": 16,
   "id": "14e09345-bda8-482b-a911-bf233c772e08",
   "metadata": {
    "scrolled": true
   },
   "outputs": [
    {
     "data": {
      "text/plain": [
       "[{'filename': 'Harangue - Orléans_image_0000.jpg',\n",
       "  'side': 'right',\n",
       "  'start_section': False,\n",
       "  'find_top': True,\n",
       "  'background': (255, 255, 255),\n",
       "  'bbox': (781, 508, 2775, 3665),\n",
       "  'angle': -0.25,\n",
       "  'cut': 1994},\n",
       " {'filename': 'Harangue - Orléans_image_0001.jpg',\n",
       "  'side': 'left',\n",
       "  'start_section': False,\n",
       "  'find_top': False,\n",
       "  'background': (255, 255, 255),\n",
       "  'bbox': (777, 269, 2774, 3770),\n",
       "  'angle': 0.0,\n",
       "  'cut': 0},\n",
       " {'filename': 'Harangue - Orléans_image_0002.jpg',\n",
       "  'side': 'right',\n",
       "  'start_section': False,\n",
       "  'find_top': False,\n",
       "  'background': (255, 255, 255),\n",
       "  'bbox': (778, 261, 2803, 3671),\n",
       "  'angle': 0.0,\n",
       "  'cut': 1730}]"
      ]
     },
     "execution_count": 16,
     "metadata": {},
     "output_type": "execute_result"
    }
   ],
   "source": [
    "# Update meta with cuts\n",
    "count = 0\n",
    "cut_update=[]\n",
    "for file in fname:\n",
    "        cut_dict = dict()\n",
    "        cut_dict[\"filename\"] = fname[count]\n",
    "        cut_dict[\"cut\"] = cut_list[count]\n",
    "        cut_update.append(cut_dict)\n",
    "        count = count+1\n",
    "            \n",
    "for original_dict in meta:\n",
    "    for update_dict in cut_update:\n",
    "        if original_dict[\"filename\"] == update_dict[\"filename\"]:\n",
    "            original_dict.update(update_dict)     \n",
    "meta[0:3]"
   ]
  },
  {
   "cell_type": "code",
   "execution_count": 17,
   "id": "affb4b31-f95d-4359-a3b3-116eea5ef5d1",
   "metadata": {},
   "outputs": [
    {
     "name": "stdout",
     "output_type": "stream",
     "text": [
      "Bbox margins successfully defined\n"
     ]
    },
    {
     "data": {
      "text/plain": [
       "[[0, 0, 1994, 3157], [0, 0, 1997, 3501], [0, 0, 1730, 3410]]"
      ]
     },
     "execution_count": 17,
     "metadata": {},
     "output_type": "execute_result"
    }
   ],
   "source": [
    "# create a bbox for the entire diff image\n",
    "out_bbox = []\n",
    "count = 0\n",
    "for jpg in itertools.islice(sorted(jpgs_folder.glob('*.jpg')), limit):\n",
    "    out_bbox0 = [0, 0] + list(diff_open[count].size)\n",
    "    # Set the side value so that the function \n",
    "    # knows which bbox dimension to \"cut\"\n",
    "    side_dict = {\"left\":0, \"right\":2}\n",
    "    # Set the outer edge of the page equal to cut, \n",
    "    # rather than the original outer edge from diff\n",
    "    # This creates a bbox that is cropped to include \n",
    "    # only the main text areas of diff\n",
    "    side_0 = side[count]\n",
    "    out_bbox0[side_dict[side_0]] = cut_list[count]\n",
    "    out_bbox.append(out_bbox0)\n",
    "    count = count + 1\n",
    "\n",
    "print('Bbox margins successfully defined')\n",
    "out_bbox[0:3]"
   ]
  },
  {
   "cell_type": "code",
   "execution_count": 18,
   "id": "a5857d25-5daf-4167-9b16-3617bb88e2ad",
   "metadata": {},
   "outputs": [
    {
     "name": "stdout",
     "output_type": "stream",
     "text": [
      "Bbox dimensions successfully adjusted\n"
     ]
    },
    {
     "data": {
      "text/plain": [
       "[[781, 508, 2775, 3665], [777, 269, 2774, 3770], [778, 261, 2508, 3671]]"
      ]
     },
     "execution_count": 18,
     "metadata": {},
     "output_type": "execute_result"
    }
   ],
   "source": [
    "#Creating cropped image boundaries\n",
    "total_bbox = []\n",
    "count = 0\n",
    "for jpg in itertools.islice(sorted(jpgs_folder.glob('*.jpg')), limit):\n",
    "    total_bbox0 = combine_bbox(bbox[count], out_bbox[count])\n",
    "    total_bbox0=list(total_bbox0)\n",
    "    total_bbox.append(total_bbox0)\n",
    "    count = count + 1\n",
    "\n",
    "print('Bbox dimensions successfully adjusted')\n",
    "total_bbox[0:3]"
   ]
  },
  {
   "cell_type": "code",
   "execution_count": 19,
   "id": "0794d019-9feb-4ff1-a193-41ae5e7e40a5",
   "metadata": {},
   "outputs": [
    {
     "name": "stdout",
     "output_type": "stream",
     "text": [
      "[-0.25, 0.0, 0.0]\n"
     ]
    }
   ],
   "source": [
    "# Extract angle\n",
    "angle_list = [d['angle'] for d in meta]\n",
    "print(angle_list[0:3])"
   ]
  },
  {
   "cell_type": "code",
   "execution_count": 20,
   "id": "40bac9d1-c123-40c4-97b1-485ecd5687b9",
   "metadata": {},
   "outputs": [
    {
     "data": {
      "text/plain": [
       "[['Harangue - Orléans_image_0000.jpg',\n",
       "  -0.25,\n",
       "  'right',\n",
       "  1994,\n",
       "  255,\n",
       "  255,\n",
       "  255,\n",
       "  781,\n",
       "  508,\n",
       "  2775,\n",
       "  3665],\n",
       " ['Harangue - Orléans_image_0001.jpg',\n",
       "  0.0,\n",
       "  'left',\n",
       "  0,\n",
       "  255,\n",
       "  255,\n",
       "  255,\n",
       "  777,\n",
       "  269,\n",
       "  2774,\n",
       "  3770],\n",
       " ['Harangue - Orléans_image_0002.jpg',\n",
       "  0.0,\n",
       "  'right',\n",
       "  1730,\n",
       "  255,\n",
       "  255,\n",
       "  255,\n",
       "  778,\n",
       "  261,\n",
       "  2508,\n",
       "  3671]]"
      ]
     },
     "execution_count": 20,
     "metadata": {},
     "output_type": "execute_result"
    }
   ],
   "source": [
    "#metadata collected\n",
    "filename_list = [d['filename'] for d in meta]\n",
    "side_list = [d['side'] for d in meta]\n",
    "meta_final = []\n",
    "count = 0\n",
    "for jpg in itertools.islice(sorted(jpgs_folder.glob('*.jpg')), limit):\n",
    "        meta_list = [filename_list[count], angle_list[count], side_list[count], cut_list[count]]\n",
    "        meta_list.extend(background[count])\n",
    "        meta_list.extend(total_bbox[count])\n",
    "        meta_final.append(meta_list)\n",
    "        count = count+1\n",
    " \n",
    "meta_final[0:3]"
   ]
  },
  {
   "cell_type": "code",
   "execution_count": 21,
   "id": "d7b2a211-fa98-4afa-a927-77c2c835560e",
   "metadata": {},
   "outputs": [],
   "source": [
    "#metadata csv\n",
    "headers = [\"filename\",\"angle\",\"side\",\"cut\",\"backR\",\"backG\",\"backB\",\n",
    "           \"bbox1\",\"bbox2\",\"bbox3\",\"bbox4\"]\n",
    "with open(f'{outDir}/{doc_name}_metadata.csv',\"w\",newline=\"\") as outfile:\n",
    "    writer=csv.writer(outfile)\n",
    "    writer.writerow(headers)\n",
    "    for row in meta_final:\n",
    "        writer.writerow(row)"
   ]
  },
  {
   "cell_type": "code",
   "execution_count": 22,
   "id": "237b8d19-86b9-43e0-9eff-7d22e477b516",
   "metadata": {},
   "outputs": [
    {
     "data": {
      "text/html": [
       "<div>\n",
       "<style scoped>\n",
       "    .dataframe tbody tr th:only-of-type {\n",
       "        vertical-align: middle;\n",
       "    }\n",
       "\n",
       "    .dataframe tbody tr th {\n",
       "        vertical-align: top;\n",
       "    }\n",
       "\n",
       "    .dataframe thead th {\n",
       "        text-align: right;\n",
       "    }\n",
       "</style>\n",
       "<table border=\"1\" class=\"dataframe\">\n",
       "  <thead>\n",
       "    <tr style=\"text-align: right;\">\n",
       "      <th></th>\n",
       "      <th>filename</th>\n",
       "      <th>angle</th>\n",
       "      <th>side</th>\n",
       "      <th>cut</th>\n",
       "      <th>backR</th>\n",
       "      <th>backG</th>\n",
       "      <th>backB</th>\n",
       "      <th>bbox1</th>\n",
       "      <th>bbox2</th>\n",
       "      <th>bbox3</th>\n",
       "      <th>bbox4</th>\n",
       "    </tr>\n",
       "  </thead>\n",
       "  <tbody>\n",
       "    <tr>\n",
       "      <th>0</th>\n",
       "      <td>Harangue - Orléans_image_0000.jpg</td>\n",
       "      <td>-0.25</td>\n",
       "      <td>right</td>\n",
       "      <td>1994</td>\n",
       "      <td>255</td>\n",
       "      <td>255</td>\n",
       "      <td>255</td>\n",
       "      <td>781</td>\n",
       "      <td>508</td>\n",
       "      <td>2775</td>\n",
       "      <td>3665</td>\n",
       "    </tr>\n",
       "    <tr>\n",
       "      <th>1</th>\n",
       "      <td>Harangue - Orléans_image_0001.jpg</td>\n",
       "      <td>0.00</td>\n",
       "      <td>left</td>\n",
       "      <td>0</td>\n",
       "      <td>255</td>\n",
       "      <td>255</td>\n",
       "      <td>255</td>\n",
       "      <td>777</td>\n",
       "      <td>269</td>\n",
       "      <td>2774</td>\n",
       "      <td>3770</td>\n",
       "    </tr>\n",
       "    <tr>\n",
       "      <th>2</th>\n",
       "      <td>Harangue - Orléans_image_0002.jpg</td>\n",
       "      <td>0.00</td>\n",
       "      <td>right</td>\n",
       "      <td>1730</td>\n",
       "      <td>255</td>\n",
       "      <td>255</td>\n",
       "      <td>255</td>\n",
       "      <td>778</td>\n",
       "      <td>261</td>\n",
       "      <td>2508</td>\n",
       "      <td>3671</td>\n",
       "    </tr>\n",
       "    <tr>\n",
       "      <th>3</th>\n",
       "      <td>Harangue - Orléans_image_0003.jpg</td>\n",
       "      <td>0.00</td>\n",
       "      <td>left</td>\n",
       "      <td>302</td>\n",
       "      <td>255</td>\n",
       "      <td>255</td>\n",
       "      <td>255</td>\n",
       "      <td>1048</td>\n",
       "      <td>163</td>\n",
       "      <td>2782</td>\n",
       "      <td>3748</td>\n",
       "    </tr>\n",
       "    <tr>\n",
       "      <th>4</th>\n",
       "      <td>Harangue - Orléans_image_0004.jpg</td>\n",
       "      <td>0.00</td>\n",
       "      <td>right</td>\n",
       "      <td>2001</td>\n",
       "      <td>255</td>\n",
       "      <td>255</td>\n",
       "      <td>255</td>\n",
       "      <td>779</td>\n",
       "      <td>267</td>\n",
       "      <td>2780</td>\n",
       "      <td>3675</td>\n",
       "    </tr>\n",
       "  </tbody>\n",
       "</table>\n",
       "</div>"
      ],
      "text/plain": [
       "                            filename  angle   side   cut  backR  backG  backB  \\\n",
       "0  Harangue - Orléans_image_0000.jpg  -0.25  right  1994    255    255    255   \n",
       "1  Harangue - Orléans_image_0001.jpg   0.00   left     0    255    255    255   \n",
       "2  Harangue - Orléans_image_0002.jpg   0.00  right  1730    255    255    255   \n",
       "3  Harangue - Orléans_image_0003.jpg   0.00   left   302    255    255    255   \n",
       "4  Harangue - Orléans_image_0004.jpg   0.00  right  2001    255    255    255   \n",
       "\n",
       "   bbox1  bbox2  bbox3  bbox4  \n",
       "0    781    508   2775   3665  \n",
       "1    777    269   2774   3770  \n",
       "2    778    261   2508   3671  \n",
       "3   1048    163   2782   3748  \n",
       "4    779    267   2780   3675  "
      ]
     },
     "execution_count": 22,
     "metadata": {},
     "output_type": "execute_result"
    }
   ],
   "source": [
    "df = pd.read_csv(f'{outDir}/{doc_name}_metadata.csv')\n",
    "df.head()"
   ]
  },
  {
   "cell_type": "code",
   "execution_count": 23,
   "id": "a5328218-9689-4542-9f3d-b2cba08a8cf7",
   "metadata": {},
   "outputs": [],
   "source": [
    "# Initialize variables\n",
    "metalist = f\"{outDir}/{doc_name}_metadata.csv\"\n",
    "csv1 = pd.read_csv(metalist)"
   ]
  },
  {
   "cell_type": "code",
   "execution_count": 24,
   "id": "6c0f37e9-d026-4632-97a4-61202750a0fa",
   "metadata": {},
   "outputs": [
    {
     "data": {
      "text/plain": [
       "['images/Harangue - Orléans_image_0018.jpg',\n",
       " 'images/Harangue - Orléans_image_0012.jpg',\n",
       " 'images/Harangue - Orléans_image_0021.jpg',\n",
       " 'images/Harangue - Orléans_image_0009.jpg',\n",
       " 'images/Harangue - Orléans_image_0014.jpg']"
      ]
     },
     "execution_count": 24,
     "metadata": {},
     "output_type": "execute_result"
    }
   ],
   "source": [
    "pool = []\n",
    "csvf = csv1.set_index(\"filename\")\n",
    "#csvf = csv1[csv1[\"filename\"].str.startswith(doc_name)].set_index(\"filename\")\n",
    "csvf['file'] = csvf.index\n",
    "for row in csvf.itertuples():\n",
    "    pool.append(os.path.normpath(os.path.join(dirpath, row.file)))\n",
    "\n",
    "pool = sample(pool, sample_n)\n",
    "\n",
    "pool"
   ]
  },
  {
   "cell_type": "code",
   "execution_count": 25,
   "id": "11034513-58e2-49f3-82bd-b498480a156b",
   "metadata": {},
   "outputs": [
    {
     "name": "stdout",
     "output_type": "stream",
     "text": [
      "Testing Harangue - Orléans_image_0018.jpg\n",
      "Testing Harangue - Orléans_image_0012.jpg\n",
      "Testing Harangue - Orléans_image_0021.jpg\n",
      "Testing Harangue - Orléans_image_0009.jpg\n",
      "Testing Harangue - Orléans_image_0014.jpg\n"
     ]
    }
   ],
   "source": [
    "#Get images for files in sample, cut margins and make a test list\n",
    "imgs = []\n",
    "results = []\n",
    "\n",
    "for img in pool:\n",
    "\n",
    "    #get image name\n",
    "    name = os.path.split(img)[1]\n",
    "    print('Testing', name)\n",
    "    #get values for cutting margins\n",
    "    rotate = csvf.loc[name][\"angle\"]\n",
    "    left = csvf.loc[name][\"bbox1\"]\n",
    "    up = csvf.loc[name][\"bbox2\"]\n",
    "    right = csvf.loc[name][\"bbox3\"]\n",
    "    lower = csvf.loc[name][\"bbox4\"]\n",
    "    bkgcol = (csvf.loc[name][\"backR\"], csvf.loc[name][\"backG\"], csvf.loc[name][\"backB\"])\n",
    "\n",
    "    #cut the margins\n",
    "    img = cutMarg(img = img, rotate = rotate, left = left, up = up, right = right,\n",
    "                 lower = lower, border = 0, bkgcol = bkgcol)\n",
    "\n",
    "\n",
    "    #add the new image to the list\n",
    "    imgs.append(img)\n",
    "\n",
    "    #perform an OCR test on the new image and add the results to the list\n",
    "    results.append(OCRtestImg(img))"
   ]
  },
  {
   "cell_type": "code",
   "execution_count": 26,
   "id": "b618f0ec-3f69-4124-9ec0-d8856d50d22f",
   "metadata": {},
   "outputs": [],
   "source": [
    "#create a testList object with the  images and results\n",
    "testSample = testList(imgs, results)"
   ]
  },
  {
   "cell_type": "code",
   "execution_count": 27,
   "id": "55803e6b-affd-41a3-b89d-9c61073895e0",
   "metadata": {},
   "outputs": [
    {
     "name": "stdout",
     "output_type": "stream",
     "text": [
      "conTests = [\"color\", \"brightness\", \"contrast\", \"autocontrast\", \"sharpness\"]\n",
      "boolTests = [\"invert\", \"blur\", \"sharpen\", \"smooth\", \"xsmooth\"]\n"
     ]
    }
   ],
   "source": [
    "#list of available tests\n",
    "print('conTests = [\"color\", \"brightness\", \"contrast\", \"autocontrast\", \"sharpness\"]')\n",
    "print('boolTests = [\"invert\", \"blur\", \"sharpen\", \"smooth\", \"xsmooth\"]')"
   ]
  },
  {
   "cell_type": "code",
   "execution_count": 28,
   "id": "9632d317-7c8f-4ef6-bc56-7c45bfc668d9",
   "metadata": {},
   "outputs": [],
   "source": [
    "#set up a dict of recommended adjustments and perform tests\n",
    "adjustments = { \"volume\": doc_name, \"color\": 1.0, \"invert\": False, \n",
    "                \"autocontrast\": 0, \"blur\": False, \"sharpen\": False, \n",
    "                \"smooth\": False, \"xsmooth\": False }"
   ]
  },
  {
   "cell_type": "code",
   "execution_count": 29,
   "id": "f3fe8455-a0d3-42b9-9d81-871dc0b61ad6",
   "metadata": {},
   "outputs": [
    {
     "name": "stdout",
     "output_type": "stream",
     "text": [
      "color test\n",
      "\n",
      "\n",
      "\n",
      "                                   color1  color0.75  color0.5  color0.25  \\\n",
      "Harangue - Orléans_image_0018.jpg      49         49        49         49   \n",
      "Harangue - Orléans_image_0012.jpg      49         49        49         49   \n",
      "Harangue - Orléans_image_0021.jpg      38         38        38         38   \n",
      "Harangue - Orléans_image_0009.jpg      41         41        41         41   \n",
      "Harangue - Orléans_image_0014.jpg      46         46        46         46   \n",
      "\n",
      "                                   color0  totaltok  \n",
      "Harangue - Orléans_image_0018.jpg      49       202  \n",
      "Harangue - Orléans_image_0012.jpg      49       201  \n",
      "Harangue - Orléans_image_0021.jpg      38       211  \n",
      "Harangue - Orléans_image_0009.jpg      41       223  \n",
      "Harangue - Orléans_image_0014.jpg      46       204  \n",
      "\n",
      "TOTAL READABILITY\n",
      "color1: 78.578\n",
      "color0.75: 78.578\n",
      "color0.5: 78.578\n",
      "color0.25: 78.578\n",
      "color0: 78.578\n"
     ]
    }
   ],
   "source": [
    "#color test\n",
    "print(\"color test\")\n",
    "testRes = testSample.adjustTest(\"color\", levels = [1,.75,.5,.25,0])"
   ]
  },
  {
   "cell_type": "code",
   "execution_count": 30,
   "id": "fd499bb8-7778-4ae7-a2dc-7a94e027e72e",
   "metadata": {},
   "outputs": [],
   "source": [
    "best = float(testRes[\"best_adjustment\"].replace(\"color\", \"\"))\n",
    "if best != 1.0:\n",
    "    testSample = testSample.adjustImg(color = best)\n",
    "    adjustments[\"color\"] = best\n",
    "    "
   ]
  },
  {
   "cell_type": "code",
   "execution_count": 31,
   "id": "7f3cf65d-8cfd-4ae9-a62f-f18f4d2b2c5e",
   "metadata": {},
   "outputs": [
    {
     "name": "stdout",
     "output_type": "stream",
     "text": [
      "autocontrast test\n",
      "\n",
      "\n",
      "\n",
      "                                   autocontrast0  autocontrast2  \\\n",
      "Harangue - Orléans_image_0018.jpg             49             49   \n",
      "Harangue - Orléans_image_0012.jpg             49             49   \n",
      "Harangue - Orléans_image_0021.jpg             38             38   \n",
      "Harangue - Orléans_image_0009.jpg             41             41   \n",
      "Harangue - Orléans_image_0014.jpg             46             46   \n",
      "\n",
      "                                   autocontrast4  autocontrast6  \\\n",
      "Harangue - Orléans_image_0018.jpg             49             49   \n",
      "Harangue - Orléans_image_0012.jpg             49             49   \n",
      "Harangue - Orléans_image_0021.jpg             38             38   \n",
      "Harangue - Orléans_image_0009.jpg             41             41   \n",
      "Harangue - Orléans_image_0014.jpg             46             47   \n",
      "\n",
      "                                   autocontrast8  totaltok  \n",
      "Harangue - Orléans_image_0018.jpg             49       202  \n",
      "Harangue - Orléans_image_0012.jpg             49       201  \n",
      "Harangue - Orléans_image_0021.jpg             38       211  \n",
      "Harangue - Orléans_image_0009.jpg             41       223  \n",
      "Harangue - Orléans_image_0014.jpg             47       204  \n",
      "\n",
      "TOTAL READABILITY\n",
      "autocontrast0: 78.578\n",
      "autocontrast2: 78.578\n",
      "autocontrast4: 78.578\n",
      "autocontrast6: 78.482\n",
      "autocontrast8: 78.482\n"
     ]
    }
   ],
   "source": [
    "#autocontrast test\n",
    "print(\"autocontrast test\")\n",
    "testRes = testSample.adjustTest(\"autocontrast\", levels = [0,2,4,6,8])\n",
    "best = float(testRes[\"best_adjustment\"].replace(\"autocontrast\", \"\"))\n",
    "if best != 0.0:\n",
    "    testSample = testSample.adjustImg(autocontrast = best)\n",
    "    adjustments[\"autocontrast\"] = best"
   ]
  },
  {
   "cell_type": "code",
   "execution_count": 32,
   "id": "529668c4-3e09-4acc-9b4c-93610f7d16ff",
   "metadata": {},
   "outputs": [
    {
     "name": "stdout",
     "output_type": "stream",
     "text": [
      "blur test\n",
      "\n",
      "\n",
      "\n",
      "                                   blurTrue  blurFalse  totaltok\n",
      "Harangue - Orléans_image_0018.jpg        48         49       202\n",
      "Harangue - Orléans_image_0012.jpg        48         49       201\n",
      "Harangue - Orléans_image_0021.jpg        37         38       211\n",
      "Harangue - Orléans_image_0009.jpg        41         41       223\n",
      "Harangue - Orléans_image_0014.jpg        45         46       204\n",
      "\n",
      "TOTAL READABILITY\n",
      "blurTrue: 78.963\n",
      "blurFalse: 78.578\n"
     ]
    }
   ],
   "source": [
    "#blur test\n",
    "print(\"blur test\")\n",
    "testRes = testSample.adjustTest(\"blur\")\n",
    "if testRes[\"best_adjustment\"] == \"blurTrue\":\n",
    "    testSample = testSample.adjustImg(blur = True)\n",
    "    adjustments[\"blur\"] = True"
   ]
  },
  {
   "cell_type": "code",
   "execution_count": 33,
   "id": "6c349fa5-3cd6-45b8-a4fa-0cc8a9c48063",
   "metadata": {},
   "outputs": [
    {
     "name": "stdout",
     "output_type": "stream",
     "text": [
      "sharpen test\n",
      "\n",
      "\n",
      "\n",
      "                                   sharpenTrue  sharpenFalse  totaltok\n",
      "Harangue - Orléans_image_0018.jpg           48            48       203\n",
      "Harangue - Orléans_image_0012.jpg           48            48       203\n",
      "Harangue - Orléans_image_0021.jpg           37            37       211\n",
      "Harangue - Orléans_image_0009.jpg           40            41       223\n",
      "Harangue - Orléans_image_0014.jpg           45            45       205\n",
      "\n",
      "TOTAL READABILITY\n",
      "sharpenTrue: 79.139\n",
      "sharpenFalse: 79.043\n"
     ]
    }
   ],
   "source": [
    "#sharpen test\n",
    "print(\"sharpen test\")\n",
    "testRes = testSample.adjustTest(\"sharpen\")\n",
    "if testRes[\"best_adjustment\"] == \"sharpenTrue\":\n",
    "    testSample = testSample.adjustImg(sharpen = True)\n",
    "    adjustments[\"sharpen\"] = True"
   ]
  },
  {
   "cell_type": "code",
   "execution_count": 34,
   "id": "4f97eadf-2a13-486e-aafb-40bfa7fd5b23",
   "metadata": {},
   "outputs": [
    {
     "name": "stdout",
     "output_type": "stream",
     "text": [
      "smooth test\n",
      "\n",
      "\n",
      "\n",
      "                                   smoothTrue  smoothFalse  totaltok\n",
      "Harangue - Orléans_image_0018.jpg          48           48       203\n",
      "Harangue - Orléans_image_0012.jpg          48           48       202\n",
      "Harangue - Orléans_image_0021.jpg          37           37       211\n",
      "Harangue - Orléans_image_0009.jpg          40           40       223\n",
      "Harangue - Orléans_image_0014.jpg          48           45       205\n",
      "\n",
      "TOTAL READABILITY\n",
      "smoothTrue: 78.831\n",
      "smoothFalse: 79.119\n"
     ]
    }
   ],
   "source": [
    "#smooth test\n",
    "print(\"smooth test\")\n",
    "testRes = testSample.adjustTest(\"smooth\")\n",
    "if testRes[\"best_adjustment\"] == \"smoothTrue\":\n",
    "    testSample = testSample.adjustImg(smooth = True)\n",
    "    adjustments[\"smooth\"] = True\n",
    "\n",
    "    #xsmooth test\n",
    "    print(\"xsmooth test\")\n",
    "    testRes = testSample.adjustTest(\"xsmooth\")\n",
    "    if testRes[\"best_adjustment\"] == \"xsmoothTrue\":\n",
    "        testSample = testSample.adjustImg(xsmooth = True)\n",
    "        adjustments[\"xsmooth\"] = True"
   ]
  },
  {
   "cell_type": "code",
   "execution_count": 35,
   "id": "7c2d65d9-af8f-4452-8f8c-e4cc51b84c51",
   "metadata": {},
   "outputs": [
    {
     "data": {
      "text/plain": [
       "['Harangue - Orléans', 1.0, False, 0, True, True, False, False]"
      ]
     },
     "execution_count": 35,
     "metadata": {},
     "output_type": "execute_result"
    }
   ],
   "source": [
    "#post-test adjustment levels\n",
    "adjustments\n",
    "adjustments_list = [*adjustments.values()]\n",
    "adjustments_list"
   ]
  },
  {
   "cell_type": "code",
   "execution_count": 36,
   "id": "2417d6fe-869f-4952-9b6f-5dc2e34c3dd6",
   "metadata": {},
   "outputs": [],
   "source": [
    "#adjustments csv\n",
    "headers = [\"volume\",\"color\",\"invert\",\"autocontrast\",\"blur\",\"sharpen\",\"smooth\",\n",
    "           \"xsmooth\"]\n",
    "with open(f\"{outDir}/{doc_name}_adjustments.csv\",\"w\",newline=\"\") as outfile:\n",
    "    writer=csv.writer(outfile)\n",
    "    writer.writerow(headers)\n",
    "    writer.writerow(adjustments_list)"
   ]
  },
  {
   "cell_type": "code",
   "execution_count": 37,
   "id": "85b8bef6-9d29-403b-9e5e-5168e5221105",
   "metadata": {},
   "outputs": [],
   "source": [
    "#Set paths for metadata files\n",
    "margdata = f\"{outDir}/{doc_name}_metadata.csv\"\n",
    "adjdata = f\"{outDir}/{doc_name}_adjustments.csv\"\n",
    "\n",
    "#Read metadata files into memory\n",
    "#Read csvs\n",
    "margcsv = pd.read_csv(margdata)\n",
    "adjcsv = pd.read_csv(adjdata)"
   ]
  },
  {
   "cell_type": "code",
   "execution_count": 38,
   "id": "56a47ff8-4bc5-4d91-8252-4bda37030e50",
   "metadata": {},
   "outputs": [],
   "source": [
    "#merge csvs\n",
    "margcsv['key'] = 0\n",
    "adjcsv['key'] = 0\n",
    "\n",
    "# Perform the Cartesian product\n",
    "fulldata = pd.merge(margcsv, adjcsv, on='key')\n",
    "\n",
    "# Drop the temporary key column\n",
    "fulldata.drop('key', axis=1, inplace=True)\n",
    "\n",
    "# Save the combined dataframe to a new CSV file\n",
    "fulldata.to_csv(f'{outDir}/{doc_name}_fulldata.csv', index=False)"
   ]
  },
  {
   "cell_type": "code",
   "execution_count": 39,
   "id": "159d16b5-4271-4d6a-ac25-185a42cbdb9c",
   "metadata": {},
   "outputs": [
    {
     "name": "stdout",
     "output_type": "stream",
     "text": [
      "19:03 Processing Harangue - Orléans_image_0000.jpg...\n",
      "19:03 Processing Harangue - Orléans_image_0001.jpg...\n",
      "19:03 Processing Harangue - Orléans_image_0002.jpg...\n",
      "19:03 Processing Harangue - Orléans_image_0003.jpg...\n",
      "19:03 Processing Harangue - Orléans_image_0004.jpg...\n",
      "19:03 Processing Harangue - Orléans_image_0005.jpg...\n",
      "19:03 Processing Harangue - Orléans_image_0006.jpg...\n",
      "19:03 Processing Harangue - Orléans_image_0007.jpg...\n",
      "19:03 Processing Harangue - Orléans_image_0008.jpg...\n",
      "19:03 Processing Harangue - Orléans_image_0009.jpg...\n",
      "19:03 Processing Harangue - Orléans_image_0010.jpg...\n",
      "19:03 Processing Harangue - Orléans_image_0011.jpg...\n",
      "19:03 Processing Harangue - Orléans_image_0012.jpg...\n",
      "19:03 Processing Harangue - Orléans_image_0013.jpg...\n",
      "19:03 Processing Harangue - Orléans_image_0014.jpg...\n",
      "19:04 Processing Harangue - Orléans_image_0015.jpg...\n",
      "19:04 Processing Harangue - Orléans_image_0016.jpg...\n",
      "19:04 Processing Harangue - Orléans_image_0017.jpg...\n",
      "19:04 Processing Harangue - Orléans_image_0018.jpg...\n",
      "19:04 Processing Harangue - Orléans_image_0019.jpg...\n",
      "19:04 Processing Harangue - Orléans_image_0020.jpg...\n",
      "19:04 Processing Harangue - Orléans_image_0021.jpg...\n",
      "19:04 Processing Harangue - Orléans_image_0022.jpg...\n",
      "19:04 Processing Harangue - Orléans_image_0023.jpg...\n",
      "19:04 Processing Harangue - Orléans_image_0024.jpg...\n",
      "19:04 Processing Harangue - Orléans_image_0025.jpg...\n",
      "19:04 Processing Harangue - Orléans_image_0026.jpg...\n",
      "19:04 Processing Harangue - Orléans_image_0027.jpg...\n",
      "19:04 Processing Harangue - Orléans_image_0028.jpg...\n",
      "19:04 Processing Harangue - Orléans_image_0029.jpg...\n",
      "19:04 Processing Harangue - Orléans_image_0030.jpg...\n",
      "19:04 Processing Harangue - Orléans_image_0031.jpg...\n",
      "19:04 Processing Harangue - Orléans_image_0032.jpg...\n",
      "Done OCR job\n"
     ]
    }
   ],
   "source": [
    "#create OCR files\n",
    "fulldata_path = f\"{outDir}/{doc_name}_fulldata.csv\"\n",
    "fulldata = pd.read_csv(fulldata_path)\n",
    "#Loop through section\n",
    "for row in fulldata.itertuples():\n",
    "\n",
    "    img = os.path.normpath(os.path.join(dirpath, row.filename))\n",
    "    print(datetime.now().strftime(\"%H:%M\") + \" Processing \" + row.filename + \"...\")\n",
    "\n",
    "    #set up margin cutting\n",
    "    cuts = {\"rotate\" : row.angle,\n",
    "            \"left\" : row.bbox1,\n",
    "            \"up\" : row.bbox2,\n",
    "            \"right\" : row.bbox3,\n",
    "            \"lower\" : row.bbox4,\n",
    "            \"border\" : 0,\n",
    "            \"bkgcol\" : (row.backR, row.backG, row.backB)}\n",
    "\n",
    "    #set up image adjustment            \n",
    "    adjustments = {\"color\": row.color, \n",
    "                   \"autocontrast\": row.autocontrast,\n",
    "                   \"blur\": row.blur,\n",
    "                   \"sharpen\": row.sharpen,\n",
    "                   \"smooth\": row.smooth,\n",
    "                   \"xsmooth\": row.xsmooth}\n",
    "\n",
    "    #OCR the image\n",
    "    tsvOCR((adjustImg(cutMarg(img, **cuts), **adjustments)), \n",
    "           savpath = os.path.normpath(os.path.join(outDir, doc_name + \".txt\")),\n",
    "           tsvfile = doc_name + \"_data.tsv\")\n",
    "\n",
    "print('Done OCR job')"
   ]
  },
  {
   "cell_type": "code",
   "execution_count": 40,
   "id": "5c61eb27-888c-4f2d-b14d-f02a2509356a",
   "metadata": {},
   "outputs": [
    {
     "name": "stdout",
     "output_type": "stream",
     "text": [
      "Time consumed by Harangue - Orléans notebook run: 0:06:47.461847\n",
      "33 pages\n",
      "0:00:12.347329 per page\n"
     ]
    }
   ],
   "source": [
    "end_time = datetime.now()\n",
    "time_consumed = end_time - start_time\n",
    "avg_time = time_consumed / limit\n",
    "print(f'Time consumed by {doc_name} notebook run: {time_consumed}')\n",
    "print(f'{limit} pages')\n",
    "print(f'{avg_time} per page')"
   ]
  }
 ],
 "metadata": {
  "kernelspec": {
   "display_name": "Python 3 (ipykernel)",
   "language": "python",
   "name": "python3"
  },
  "language_info": {
   "codemirror_mode": {
    "name": "ipython",
    "version": 3
   },
   "file_extension": ".py",
   "mimetype": "text/x-python",
   "name": "python",
   "nbconvert_exporter": "python",
   "pygments_lexer": "ipython3",
   "version": "3.12.4"
  },
  "toc": {
   "base_numbering": 1,
   "nav_menu": {},
   "number_sections": true,
   "sideBar": true,
   "skip_h1_title": true,
   "title_cell": "Table of Contents",
   "title_sidebar": "Contents",
   "toc_cell": false,
   "toc_position": {},
   "toc_section_display": true,
   "toc_window_display": false
  }
 },
 "nbformat": 4,
 "nbformat_minor": 5
}
