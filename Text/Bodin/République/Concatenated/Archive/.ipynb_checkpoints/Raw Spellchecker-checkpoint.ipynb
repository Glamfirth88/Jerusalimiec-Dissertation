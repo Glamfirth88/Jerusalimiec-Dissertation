{
 "cells": [
  {
   "cell_type": "code",
   "execution_count": null,
   "id": "bc5352fa-5179-4cfa-86e4-2cb30f0de341",
   "metadata": {},
   "outputs": [],
   "source": [
    "unknown_words = ['1', '2', '3', '4', '5', '6', '7', '8', '9', '0', 'és', 'nousauons', 'deflus', 'fou- \\nuerain', 'peu- \\nple',\n",
    "                'em- \\npereur', 'repu- \\nblique', 'magi- \\nftrats', 'plu- \\nfieurs', 'fu- \\ngets', 'puif- \\nfance',\n",
    "                'cha- \\ncun', 'republi- \\nques', 'tou- \\ntesfois', 'hon- \\nneur', 'pre- \\nmier',\n",
    "                'mo- \\nnarchie', 'mai- \\nftre', 'enco- \\nres', 'iuf- \\nques', 'plu- \\nficurs',\n",
    "                'fouuerai- \\nneté', 'ci- \\ntoyens', 'touf- \\niours', 'empe- \\nreur', 'parti- \\nculier', 'puif- \\nlance',\n",
    "                'pu- \\nblic', 'per- \\nfonne', 'angle- \\nterre', 'particu- \\nlier', 'em pereur', 'em- \\npire',\n",
    "                'fouue- \\nrain', 'don- \\nner', 'repvbliqve', 'eftat', 'eftats',\n",
    "                'magiftrat', 'magiftrats', 'puiffance', 'puiflance', 'plufieurs', 'fugets',\n",
    "                'ainfi', 'toufiours', 'fuft']\n",
    "\n",
    "known_words = ['', '', '', '', '', '', '', '', '', '', 'les', 'nous avons', 'dessus', 'souverain', 'peuple',\n",
    "              'empereur', 'republique', 'magistrats', 'plusieurs', 'sujets', 'puissance',\n",
    "               'chacun', 'republiques', 'toutesfois', 'honneur', 'premier',\n",
    "              'monarchie', 'maistre', 'encores', 'iusques', 'plusieurs',\n",
    "               'souveraineté', 'citoyens', 'tousiours', 'empereur', 'particulier', 'puissance',\n",
    "              'public', 'personne', 'angleterre', 'particulier', 'empereur', 'empire', 'souverain', 'donner', 'republique', 'estat', 'estats',\n",
    "              'magistrat', 'magistrats', 'puissance', 'puissance', 'plusieurs', 'sujets',\n",
    "              'ainsi', 'tousjours', 'fust']"
   ]
  }
 ],
 "metadata": {
  "kernelspec": {
   "display_name": "Python 3 (ipykernel)",
   "language": "python",
   "name": "python3"
  },
  "language_info": {
   "codemirror_mode": {
    "name": "ipython",
    "version": 3
   },
   "file_extension": ".py",
   "mimetype": "text/x-python",
   "name": "python",
   "nbconvert_exporter": "python",
   "pygments_lexer": "ipython3",
   "version": "3.12.4"
  }
 },
 "nbformat": 4,
 "nbformat_minor": 5
}
