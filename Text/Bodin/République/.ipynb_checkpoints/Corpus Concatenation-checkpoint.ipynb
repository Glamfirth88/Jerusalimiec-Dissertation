{
 "cells": [
  {
   "cell_type": "code",
   "execution_count": 1,
   "id": "52221d2f-41fd-477b-a8f2-2f46a290c2fe",
   "metadata": {},
   "outputs": [
    {
     "name": "stdout",
     "output_type": "stream",
     "text": [
      "République H preface.txt\n",
      "République I.1.txt\n",
      "République I.2.txt\n",
      "République I.3.txt\n",
      "République I.4.txt\n",
      "République I.5.txt\n",
      "République I.6.txt\n",
      "République I.7.txt\n",
      "République I.8.txt\n",
      "République I.9.txt\n",
      "République I.910.txt\n",
      "République I.911.txt\n",
      "République II.1.txt\n",
      "République II.2.txt\n",
      "République II.3.txt\n",
      "République II.4.txt\n",
      "République II.5.txt\n",
      "République II.6.txt\n",
      "République II.7.txt\n",
      "République III.1.txt\n",
      "République III.2.txt\n",
      "République III.3.txt\n",
      "République III.4.txt\n",
      "République III.5.txt\n",
      "République III.6.txt\n",
      "République III.7.txt\n",
      "République IV.1.txt\n",
      "République IV.2.txt\n",
      "République IV.3.txt\n",
      "République IV.4.txt\n",
      "République IV.5.txt\n",
      "République IV.6.txt\n",
      "République IV.7.txt\n",
      "République V.1.txt\n",
      "République V.2.txt\n",
      "République V.3.txt\n",
      "République V.4.txt\n",
      "République V.5.txt\n",
      "République VI.1.txt\n",
      "République VI.2.txt\n",
      "République VI.3.txt\n",
      "République VI.4.txt\n",
      "République VI.5.txt\n",
      "République VI.6.txt\n",
      "Concatenated into République.txt\n"
     ]
    }
   ],
   "source": [
    "import glob\n",
    "import os\n",
    "from pathlib import Path\n",
    "\n",
    "corpus_name = 'République'\n",
    "\n",
    "# Set the folder for the input texts\n",
    "cwd = os.getcwd()\n",
    "texts_folder = Path(cwd)\n",
    "\n",
    "# Set output filename and create file\n",
    "output_folder = Path('./Concatenated')\n",
    "output_folder.mkdir(exist_ok=True)\n",
    "output_file = Path(f'{output_folder}/{corpus_name}.txt')\n",
    "\n",
    "output_file.touch()\n",
    "\n",
    "with open(output_file, 'w') as f_out:\n",
    "    for txt in sorted(texts_folder.glob('*.txt')):\n",
    "        print(os.path.basename(txt))\n",
    "        with open(txt, 'r') as f_in:\n",
    "            fileText = f_in.read()\n",
    "            f_out.write(fileText + \"\\n\" + \"\\n\")\n",
    "            \n",
    "print(f'Concatenated into {corpus_name}.txt')"
   ]
  }
 ],
 "metadata": {
  "kernelspec": {
   "display_name": "Python 3 (ipykernel)",
   "language": "python",
   "name": "python3"
  },
  "language_info": {
   "codemirror_mode": {
    "name": "ipython",
    "version": 3
   },
   "file_extension": ".py",
   "mimetype": "text/x-python",
   "name": "python",
   "nbconvert_exporter": "python",
   "pygments_lexer": "ipython3",
   "version": "3.12.4"
  }
 },
 "nbformat": 4,
 "nbformat_minor": 5
}
