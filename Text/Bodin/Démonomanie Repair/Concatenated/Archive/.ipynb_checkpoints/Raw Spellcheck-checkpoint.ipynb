{
 "cells": [
  {
   "cell_type": "code",
   "execution_count": null,
   "id": "b947d151-563b-4c83-b961-19679fd88aac",
   "metadata": {},
   "outputs": [],
   "source": [
    "unknown_words = ['1', '2', '3', '4', '5', '6', '7', '8', '9', '0', 'deſquels', 'plu- \\nfieurs', 'def- \\nquels', 'na- \\nture', 'fem- \\nblables', 'mou- \\nrir',\n",
    "                 'pro- \\nphetes', 'sor- \\nciere', 'sor- \\ncier', 'empe- \\nreur', 'chan- \\ngement', 'expe- \\nrience', 'natu- \\nrelle', \n",
    "                 'ordi- \\nnaire', 'imagi- \\nner', 'dia- \\nbolique', 'dia- \\nble', 'dia- \\nboliques', 'plu- \\nficurs', 'plu- \\n\\nfieurs', 'fem- \\nblable',\n",
    "                'pro- \\nphetie', 'pro- \\nphetize', 'pro- \\nphetie', 'sor- \\ncicr', 'sor- \\ncelleries', 'sor- \\nciet', 'natu- \\nre', 'natu- \\nrc', 'ordi- naires',\n",
    "                'l\\'imagi- \\nnation', 'dia- \\n\\nbles', 'diabo- \\nliques', 'hu- \\nmainc', 'hu- \\nmaine', 'dia ble', 'male- \\nfices',\n",
    "                'efprit', 'efprits', 'plufieurs', 'chofes', 'chofe']\n",
    "\n",
    "known_words = ['', '', '', '', '', '', '', '', '', '', 'defquels', 'plufieurs', 'defquels', 'nature', 'femblables', 'mourir',\n",
    "               'prophetes', 'sorciere', 'sorcier', 'empereur', 'changement', 'experience', 'naturelle',\n",
    "               'ordinaire', 'imaginer', 'diabolique', 'diable', 'diaboliques', 'plusieurs', 'plusieurs', 'semblable',\n",
    "              'prophetie', 'prophetize', 'propheties', 'sorcier', 'sorcelleries', 'sorciere', 'nature', 'nature', 'ordinaires',\n",
    "              'l\\'imagination', 'diables', 'diaboliques', 'humaine', 'humaine', 'diable', 'malefices',\n",
    "              'esprit', 'esprits', 'plusieurs', 'choses', 'chose']"
   ]
  }
 ],
 "metadata": {
  "kernelspec": {
   "display_name": "Python 3 (ipykernel)",
   "language": "python",
   "name": "python3"
  },
  "language_info": {
   "codemirror_mode": {
    "name": "ipython",
    "version": 3
   },
   "file_extension": ".py",
   "mimetype": "text/x-python",
   "name": "python",
   "nbconvert_exporter": "python",
   "pygments_lexer": "ipython3",
   "version": "3.12.4"
  }
 },
 "nbformat": 4,
 "nbformat_minor": 5
}
