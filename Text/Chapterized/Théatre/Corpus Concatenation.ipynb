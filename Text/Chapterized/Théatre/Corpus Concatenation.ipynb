{
 "cells": [
  {
   "cell_type": "code",
   "execution_count": 1,
   "id": "52221d2f-41fd-477b-a8f2-2f46a290c2fe",
   "metadata": {},
   "outputs": [],
   "source": [
    "import glob\n",
    "import os\n",
    "from pathlib import Path\n",
    "\n",
    "def get_user_selection(options, prompt):\n",
    "    options = sorted(options)  # Sort the list of options before displaying\n",
    "    print(prompt)\n",
    "    for idx, option in enumerate(options, start=1):\n",
    "        print(f\"{idx}. {option}\")\n",
    "    \n",
    "    selected_indices = input(\"Enter the numbers of the files you want to select, separated by commas or ranges (e.g., 1,2,4-6): \").split(\",\")\n",
    "    selected_files = []\n",
    "\n",
    "    for index in selected_indices:\n",
    "        if '-' in index:\n",
    "            start, end = map(int, index.split('-'))\n",
    "            selected_files.extend(options[start-1:end])\n",
    "        else:\n",
    "            selected_files.append(options[int(index.strip()) - 1])\n",
    "\n",
    "    return selected_files\n",
    "\n",
    "def get_output_directory():\n",
    "    choice = input(\"Enter '1' to output to ./Concatenated or '2' to output to the current working directory (default is 1): \") or '1'\n",
    "    if choice == '1':\n",
    "        output_folder = Path('./Concatenated')\n",
    "        output_folder.mkdir(exist_ok=True)\n",
    "        return output_folder\n",
    "    elif choice == '2':\n",
    "        return Path.cwd()\n",
    "    else:\n",
    "        print(\"Invalid choice, defaulting to ./Concatenated\")\n",
    "        output_folder = Path('./Concatenated')\n",
    "        output_folder.mkdir(exist_ok=True)\n",
    "        return output_folder\n",
    "\n",
    "def get_corpus_name(cwd):\n",
    "    choice = input(\"Enter '1' to supply a corpus name or '2' to use the current directory name (default is 1): \") or '1'\n",
    "    if choice == '1':\n",
    "        return input(\"Enter the corpus name: \")\n",
    "    elif choice == '2':\n",
    "        return os.path.basename(cwd)\n",
    "    else:\n",
    "        print(\"Invalid choice, using the current directory name.\")\n",
    "        return os.path.basename(cwd)\n",
    "\n",
    "# Set the folder for the input texts\n",
    "cwd = os.getcwd()\n",
    "texts_folder = Path(cwd)"
   ]
  },
  {
   "cell_type": "code",
   "execution_count": 2,
   "id": "01c9f979-c14a-4fb2-aa51-aed4ca32afc4",
   "metadata": {},
   "outputs": [
    {
     "ename": "KeyboardInterrupt",
     "evalue": "Interrupted by user",
     "output_type": "error",
     "traceback": [
      "\u001b[0;31m---------------------------------------------------------------------------\u001b[0m",
      "\u001b[0;31mKeyboardInterrupt\u001b[0m                         Traceback (most recent call last)",
      "Cell \u001b[0;32mIn[2], line 2\u001b[0m\n\u001b[1;32m      1\u001b[0m \u001b[38;5;66;03m# Get the corpus name\u001b[39;00m\n\u001b[0;32m----> 2\u001b[0m corpus_name \u001b[38;5;241m=\u001b[39m \u001b[43mget_corpus_name\u001b[49m\u001b[43m(\u001b[49m\u001b[43mcwd\u001b[49m\u001b[43m)\u001b[49m\n\u001b[1;32m      4\u001b[0m \u001b[38;5;66;03m# Get the list of .txt files in the current directory\u001b[39;00m\n\u001b[1;32m      5\u001b[0m txt_files \u001b[38;5;241m=\u001b[39m \u001b[38;5;28msorted\u001b[39m(texts_folder\u001b[38;5;241m.\u001b[39mglob(\u001b[38;5;124m'\u001b[39m\u001b[38;5;124m*.txt\u001b[39m\u001b[38;5;124m'\u001b[39m))\n",
      "Cell \u001b[0;32mIn[1], line 38\u001b[0m, in \u001b[0;36mget_corpus_name\u001b[0;34m(cwd)\u001b[0m\n\u001b[1;32m     37\u001b[0m \u001b[38;5;28;01mdef\u001b[39;00m \u001b[38;5;21mget_corpus_name\u001b[39m(cwd):\n\u001b[0;32m---> 38\u001b[0m     choice \u001b[38;5;241m=\u001b[39m \u001b[38;5;28;43minput\u001b[39;49m\u001b[43m(\u001b[49m\u001b[38;5;124;43m\"\u001b[39;49m\u001b[38;5;124;43mEnter \u001b[39;49m\u001b[38;5;124;43m'\u001b[39;49m\u001b[38;5;124;43m1\u001b[39;49m\u001b[38;5;124;43m'\u001b[39;49m\u001b[38;5;124;43m to supply a corpus name or \u001b[39;49m\u001b[38;5;124;43m'\u001b[39;49m\u001b[38;5;124;43m2\u001b[39;49m\u001b[38;5;124;43m'\u001b[39;49m\u001b[38;5;124;43m to use the current directory name (default is 1): \u001b[39;49m\u001b[38;5;124;43m\"\u001b[39;49m\u001b[43m)\u001b[49m \u001b[38;5;129;01mor\u001b[39;00m \u001b[38;5;124m'\u001b[39m\u001b[38;5;124m1\u001b[39m\u001b[38;5;124m'\u001b[39m\n\u001b[1;32m     39\u001b[0m     \u001b[38;5;28;01mif\u001b[39;00m choice \u001b[38;5;241m==\u001b[39m \u001b[38;5;124m'\u001b[39m\u001b[38;5;124m1\u001b[39m\u001b[38;5;124m'\u001b[39m:\n\u001b[1;32m     40\u001b[0m         \u001b[38;5;28;01mreturn\u001b[39;00m \u001b[38;5;28minput\u001b[39m(\u001b[38;5;124m\"\u001b[39m\u001b[38;5;124mEnter the corpus name: \u001b[39m\u001b[38;5;124m\"\u001b[39m)\n",
      "File \u001b[0;32m~/.local/lib/python3.12/site-packages/ipykernel/kernelbase.py:1282\u001b[0m, in \u001b[0;36mKernel.raw_input\u001b[0;34m(self, prompt)\u001b[0m\n\u001b[1;32m   1280\u001b[0m     msg \u001b[38;5;241m=\u001b[39m \u001b[38;5;124m\"\u001b[39m\u001b[38;5;124mraw_input was called, but this frontend does not support input requests.\u001b[39m\u001b[38;5;124m\"\u001b[39m\n\u001b[1;32m   1281\u001b[0m     \u001b[38;5;28;01mraise\u001b[39;00m StdinNotImplementedError(msg)\n\u001b[0;32m-> 1282\u001b[0m \u001b[38;5;28;01mreturn\u001b[39;00m \u001b[38;5;28;43mself\u001b[39;49m\u001b[38;5;241;43m.\u001b[39;49m\u001b[43m_input_request\u001b[49m\u001b[43m(\u001b[49m\n\u001b[1;32m   1283\u001b[0m \u001b[43m    \u001b[49m\u001b[38;5;28;43mstr\u001b[39;49m\u001b[43m(\u001b[49m\u001b[43mprompt\u001b[49m\u001b[43m)\u001b[49m\u001b[43m,\u001b[49m\n\u001b[1;32m   1284\u001b[0m \u001b[43m    \u001b[49m\u001b[38;5;28;43mself\u001b[39;49m\u001b[38;5;241;43m.\u001b[39;49m\u001b[43m_parent_ident\u001b[49m\u001b[43m[\u001b[49m\u001b[38;5;124;43m\"\u001b[39;49m\u001b[38;5;124;43mshell\u001b[39;49m\u001b[38;5;124;43m\"\u001b[39;49m\u001b[43m]\u001b[49m\u001b[43m,\u001b[49m\n\u001b[1;32m   1285\u001b[0m \u001b[43m    \u001b[49m\u001b[38;5;28;43mself\u001b[39;49m\u001b[38;5;241;43m.\u001b[39;49m\u001b[43mget_parent\u001b[49m\u001b[43m(\u001b[49m\u001b[38;5;124;43m\"\u001b[39;49m\u001b[38;5;124;43mshell\u001b[39;49m\u001b[38;5;124;43m\"\u001b[39;49m\u001b[43m)\u001b[49m\u001b[43m,\u001b[49m\n\u001b[1;32m   1286\u001b[0m \u001b[43m    \u001b[49m\u001b[43mpassword\u001b[49m\u001b[38;5;241;43m=\u001b[39;49m\u001b[38;5;28;43;01mFalse\u001b[39;49;00m\u001b[43m,\u001b[49m\n\u001b[1;32m   1287\u001b[0m \u001b[43m\u001b[49m\u001b[43m)\u001b[49m\n",
      "File \u001b[0;32m~/.local/lib/python3.12/site-packages/ipykernel/kernelbase.py:1325\u001b[0m, in \u001b[0;36mKernel._input_request\u001b[0;34m(self, prompt, ident, parent, password)\u001b[0m\n\u001b[1;32m   1322\u001b[0m \u001b[38;5;28;01mexcept\u001b[39;00m \u001b[38;5;167;01mKeyboardInterrupt\u001b[39;00m:\n\u001b[1;32m   1323\u001b[0m     \u001b[38;5;66;03m# re-raise KeyboardInterrupt, to truncate traceback\u001b[39;00m\n\u001b[1;32m   1324\u001b[0m     msg \u001b[38;5;241m=\u001b[39m \u001b[38;5;124m\"\u001b[39m\u001b[38;5;124mInterrupted by user\u001b[39m\u001b[38;5;124m\"\u001b[39m\n\u001b[0;32m-> 1325\u001b[0m     \u001b[38;5;28;01mraise\u001b[39;00m \u001b[38;5;167;01mKeyboardInterrupt\u001b[39;00m(msg) \u001b[38;5;28;01mfrom\u001b[39;00m \u001b[38;5;28;01mNone\u001b[39;00m\n\u001b[1;32m   1326\u001b[0m \u001b[38;5;28;01mexcept\u001b[39;00m \u001b[38;5;167;01mException\u001b[39;00m:\n\u001b[1;32m   1327\u001b[0m     \u001b[38;5;28mself\u001b[39m\u001b[38;5;241m.\u001b[39mlog\u001b[38;5;241m.\u001b[39mwarning(\u001b[38;5;124m\"\u001b[39m\u001b[38;5;124mInvalid Message:\u001b[39m\u001b[38;5;124m\"\u001b[39m, exc_info\u001b[38;5;241m=\u001b[39m\u001b[38;5;28;01mTrue\u001b[39;00m)\n",
      "\u001b[0;31mKeyboardInterrupt\u001b[0m: Interrupted by user"
     ]
    }
   ],
   "source": [
    "# Get the corpus name\n",
    "corpus_name = get_corpus_name(cwd)\n",
    "\n",
    "# Get the list of .txt files in the current directory\n",
    "txt_files = sorted(texts_folder.glob('*.txt'))\n",
    "\n",
    "# Prompt the user to select which files to concatenate\n",
    "selected_files = get_user_selection(txt_files, \"Select which files to concatenate:\")\n",
    "\n",
    "# Prompt the user to select the output directory\n",
    "output_folder = get_output_directory()\n",
    "output_file = Path(f'{output_folder}/{corpus_name}.txt')\n",
    "output_file.touch()\n",
    "\n",
    "# Concatenate the selected files\n",
    "with open(output_file, 'w') as f_out:\n",
    "    for txt in selected_files:\n",
    "        print(os.path.basename(txt))\n",
    "        with open(txt, 'r') as f_in:\n",
    "            fileText = f_in.read()\n",
    "            f_out.write(fileText + \"\\n\" + \"\\n\")\n",
    "\n",
    "print(f'Concatenated into {output_file.name}')"
   ]
  }
 ],
 "metadata": {
  "kernelspec": {
   "display_name": "Python 3 (ipykernel)",
   "language": "python",
   "name": "python3"
  },
  "language_info": {
   "codemirror_mode": {
    "name": "ipython",
    "version": 3
   },
   "file_extension": ".py",
   "mimetype": "text/x-python",
   "name": "python",
   "nbconvert_exporter": "python",
   "pygments_lexer": "ipython3",
   "version": "3.12.4"
  }
 },
 "nbformat": 4,
 "nbformat_minor": 5
}
