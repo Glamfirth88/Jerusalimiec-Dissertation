{
 "cells": [
  {
   "cell_type": "code",
   "execution_count": 4,
   "id": "09a5f0f4-2a7d-41f5-8cfc-1c0b88abd566",
   "metadata": {},
   "outputs": [
    {
     "data": {
      "text/html": [
       "<h2>Hello from IPython in JupyterLab!</h2>"
      ],
      "text/plain": [
       "<IPython.core.display.HTML object>"
      ]
     },
     "metadata": {},
     "output_type": "display_data"
    }
   ],
   "source": [
    "from IPython.display import display, HTML\n",
    "\n",
    "display(HTML(\"<h2>Hello from IPython in JupyterLab!</h2>\"))"
   ]
  },
  {
   "cell_type": "code",
   "execution_count": 5,
   "id": "9cce46e2-a2a2-437a-8813-49dface752d7",
   "metadata": {},
   "outputs": [
    {
     "data": {
      "application/javascript": [
       "\n",
       "if (typeof IPython !== 'undefined') {\n",
       "    console.log('IPython is available');\n",
       "} else {\n",
       "    console.log('IPython is not available');\n",
       "}\n"
      ],
      "text/plain": [
       "<IPython.core.display.Javascript object>"
      ]
     },
     "metadata": {},
     "output_type": "display_data"
    }
   ],
   "source": [
    "from IPython.display import display, Javascript\n",
    "\n",
    "js_code = \"\"\"\n",
    "if (typeof IPython !== 'undefined') {\n",
    "    console.log('IPython is available');\n",
    "} else {\n",
    "    console.log('IPython is not available');\n",
    "}\n",
    "\"\"\"\n",
    "\n",
    "display(Javascript(js_code))"
   ]
  }
 ],
 "metadata": {
  "kernelspec": {
   "display_name": "Python 3 (ipykernel)",
   "language": "python",
   "name": "python3"
  },
  "language_info": {
   "codemirror_mode": {
    "name": "ipython",
    "version": 3
   },
   "file_extension": ".py",
   "mimetype": "text/x-python",
   "name": "python",
   "nbconvert_exporter": "python",
   "pygments_lexer": "ipython3",
   "version": "3.12.4"
  }
 },
 "nbformat": 4,
 "nbformat_minor": 5
}
