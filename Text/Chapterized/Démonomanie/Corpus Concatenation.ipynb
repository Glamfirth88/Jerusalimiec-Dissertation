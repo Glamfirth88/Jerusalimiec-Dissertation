{
 "cells": [
  {
   "cell_type": "code",
   "execution_count": 5,
   "id": "52221d2f-41fd-477b-a8f2-2f46a290c2fe",
   "metadata": {},
   "outputs": [],
   "source": [
    "import glob\n",
    "import os\n",
    "from pathlib import Path\n",
    "\n",
    "def get_user_selection(options, prompt):\n",
    "    options = sorted(options)  # Sort the list of options before displaying\n",
    "    print(prompt)\n",
    "    for idx, option in enumerate(options, start=1):\n",
    "        print(f\"{idx}. {option}\")\n",
    "    \n",
    "    selected_indices = input(\"Enter the numbers of the files you want to select, separated by commas or ranges (e.g., 1,2,4-6): \").split(\",\")\n",
    "    selected_files = []\n",
    "\n",
    "    for index in selected_indices:\n",
    "        if '-' in index:\n",
    "            start, end = map(int, index.split('-'))\n",
    "            selected_files.extend(options[start-1:end])\n",
    "        else:\n",
    "            selected_files.append(options[int(index.strip()) - 1])\n",
    "\n",
    "    return selected_files\n",
    "\n",
    "def get_output_directory():\n",
    "    choice = input(\"Enter '1' to output to ./Concatenated or '2' to output to the current working directory (default is 1): \") or '1'\n",
    "    if choice == '1':\n",
    "        output_folder = Path('./Concatenated')\n",
    "        output_folder.mkdir(exist_ok=True)\n",
    "        return output_folder\n",
    "    elif choice == '2':\n",
    "        return Path.cwd()\n",
    "    else:\n",
    "        print(\"Invalid choice, defaulting to ./Concatenated\")\n",
    "        output_folder = Path('./Concatenated')\n",
    "        output_folder.mkdir(exist_ok=True)\n",
    "        return output_folder\n",
    "\n",
    "def get_corpus_name(cwd):\n",
    "    choice = input(\"Enter '1' to supply a corpus name or '2' to use the current directory name (default is 1): \") or '1'\n",
    "    if choice == '1':\n",
    "        return input(\"Enter the corpus name: \")\n",
    "    elif choice == '2':\n",
    "        return os.path.basename(cwd)\n",
    "    else:\n",
    "        print(\"Invalid choice, using the current directory name.\")\n",
    "        return os.path.basename(cwd)\n",
    "\n",
    "# Set the folder for the input texts\n",
    "cwd = os.getcwd()\n",
    "texts_folder = Path(cwd)"
   ]
  },
  {
   "cell_type": "code",
   "execution_count": 8,
   "id": "01c9f979-c14a-4fb2-aa51-aed4ca32afc4",
   "metadata": {},
   "outputs": [
    {
     "name": "stdin",
     "output_type": "stream",
     "text": [
      "Enter '1' to supply a corpus name or '2' to use the current directory name (default is 1):  Démonomanie IV\n"
     ]
    },
    {
     "name": "stdout",
     "output_type": "stream",
     "text": [
      "Invalid choice, using the current directory name.\n",
      "Select which files to concatenate:\n",
      "1. /home/lucas-jerusalimiec/Documents/OCR Text/Text/Bodin Chapterized/Démonomanie/Démonomanie I.1 spliced.txt\n",
      "2. /home/lucas-jerusalimiec/Documents/OCR Text/Text/Bodin Chapterized/Démonomanie/Démonomanie I.2.txt\n",
      "3. /home/lucas-jerusalimiec/Documents/OCR Text/Text/Bodin Chapterized/Démonomanie/Démonomanie I.3.txt\n",
      "4. /home/lucas-jerusalimiec/Documents/OCR Text/Text/Bodin Chapterized/Démonomanie/Démonomanie I.4.txt\n",
      "5. /home/lucas-jerusalimiec/Documents/OCR Text/Text/Bodin Chapterized/Démonomanie/Démonomanie I.5.txt\n",
      "6. /home/lucas-jerusalimiec/Documents/OCR Text/Text/Bodin Chapterized/Démonomanie/Démonomanie I.6.txt\n",
      "7. /home/lucas-jerusalimiec/Documents/OCR Text/Text/Bodin Chapterized/Démonomanie/Démonomanie I.7.txt\n",
      "8. /home/lucas-jerusalimiec/Documents/OCR Text/Text/Bodin Chapterized/Démonomanie/Démonomanie II.1.txt\n",
      "9. /home/lucas-jerusalimiec/Documents/OCR Text/Text/Bodin Chapterized/Démonomanie/Démonomanie II.2.txt\n",
      "10. /home/lucas-jerusalimiec/Documents/OCR Text/Text/Bodin Chapterized/Démonomanie/Démonomanie II.3.txt\n",
      "11. /home/lucas-jerusalimiec/Documents/OCR Text/Text/Bodin Chapterized/Démonomanie/Démonomanie II.4.txt\n",
      "12. /home/lucas-jerusalimiec/Documents/OCR Text/Text/Bodin Chapterized/Démonomanie/Démonomanie II.5.txt\n",
      "13. /home/lucas-jerusalimiec/Documents/OCR Text/Text/Bodin Chapterized/Démonomanie/Démonomanie II.6.txt\n",
      "14. /home/lucas-jerusalimiec/Documents/OCR Text/Text/Bodin Chapterized/Démonomanie/Démonomanie II.7.txt\n",
      "15. /home/lucas-jerusalimiec/Documents/OCR Text/Text/Bodin Chapterized/Démonomanie/Démonomanie II.8.txt\n",
      "16. /home/lucas-jerusalimiec/Documents/OCR Text/Text/Bodin Chapterized/Démonomanie/Démonomanie III.1.txt\n",
      "17. /home/lucas-jerusalimiec/Documents/OCR Text/Text/Bodin Chapterized/Démonomanie/Démonomanie III.2.txt\n",
      "18. /home/lucas-jerusalimiec/Documents/OCR Text/Text/Bodin Chapterized/Démonomanie/Démonomanie III.3.txt\n",
      "19. /home/lucas-jerusalimiec/Documents/OCR Text/Text/Bodin Chapterized/Démonomanie/Démonomanie III.4.txt\n",
      "20. /home/lucas-jerusalimiec/Documents/OCR Text/Text/Bodin Chapterized/Démonomanie/Démonomanie III.5.txt\n",
      "21. /home/lucas-jerusalimiec/Documents/OCR Text/Text/Bodin Chapterized/Démonomanie/Démonomanie III.6.txt\n",
      "22. /home/lucas-jerusalimiec/Documents/OCR Text/Text/Bodin Chapterized/Démonomanie/Démonomanie IV.1.txt\n",
      "23. /home/lucas-jerusalimiec/Documents/OCR Text/Text/Bodin Chapterized/Démonomanie/Démonomanie IV.2.txt\n",
      "24. /home/lucas-jerusalimiec/Documents/OCR Text/Text/Bodin Chapterized/Démonomanie/Démonomanie IV.3.txt\n",
      "25. /home/lucas-jerusalimiec/Documents/OCR Text/Text/Bodin Chapterized/Démonomanie/Démonomanie IV.4.txt\n",
      "26. /home/lucas-jerusalimiec/Documents/OCR Text/Text/Bodin Chapterized/Démonomanie/Démonomanie IV.5.txt\n",
      "27. /home/lucas-jerusalimiec/Documents/OCR Text/Text/Bodin Chapterized/Démonomanie/Démonomanie preface Repair.txt\n"
     ]
    },
    {
     "name": "stdin",
     "output_type": "stream",
     "text": [
      "Enter the numbers of the files you want to select, separated by commas or ranges (e.g., 1,2,4-6):  22-26\n",
      "Enter '1' to output to ./Concatenated or '2' to output to the current working directory (default is 1):  \n"
     ]
    },
    {
     "name": "stdout",
     "output_type": "stream",
     "text": [
      "Démonomanie IV.1.txt\n",
      "Démonomanie IV.2.txt\n",
      "Démonomanie IV.3.txt\n",
      "Démonomanie IV.4.txt\n",
      "Démonomanie IV.5.txt\n",
      "Concatenated into Démonomanie.txt\n"
     ]
    }
   ],
   "source": [
    "# Get the corpus name\n",
    "corpus_name = get_corpus_name(cwd)\n",
    "\n",
    "# Get the list of .txt files in the current directory\n",
    "txt_files = sorted(texts_folder.glob('*.txt'))\n",
    "\n",
    "# Prompt the user to select which files to concatenate\n",
    "selected_files = get_user_selection(txt_files, \"Select which files to concatenate:\")\n",
    "\n",
    "# Prompt the user to select the output directory\n",
    "output_folder = get_output_directory()\n",
    "output_file = Path(f'{output_folder}/{corpus_name}.txt')\n",
    "output_file.touch()\n",
    "\n",
    "# Concatenate the selected files\n",
    "with open(output_file, 'w') as f_out:\n",
    "    for txt in selected_files:\n",
    "        print(os.path.basename(txt))\n",
    "        with open(txt, 'r') as f_in:\n",
    "            fileText = f_in.read()\n",
    "            f_out.write(fileText + \"\\n\" + \"\\n\")\n",
    "\n",
    "print(f'Concatenated into {output_file.name}')"
   ]
  }
 ],
 "metadata": {
  "kernelspec": {
   "display_name": "Python 3 (ipykernel)",
   "language": "python",
   "name": "python3"
  },
  "language_info": {
   "codemirror_mode": {
    "name": "ipython",
    "version": 3
   },
   "file_extension": ".py",
   "mimetype": "text/x-python",
   "name": "python",
   "nbconvert_exporter": "python",
   "pygments_lexer": "ipython3",
   "version": "3.12.4"
  }
 },
 "nbformat": 4,
 "nbformat_minor": 5
}
