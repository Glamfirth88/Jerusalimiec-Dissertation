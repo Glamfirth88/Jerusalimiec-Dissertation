{
 "cells": [
  {
   "cell_type": "code",
   "execution_count": 1,
   "id": "ec9c7ae5-8779-4999-b790-7ac3a450d6ec",
   "metadata": {},
   "outputs": [
    {
     "name": "stdin",
     "output_type": "stream",
     "text": [
      "Use FrenchLefffLemmatizer? (y/n, default is y):  \n"
     ]
    },
    {
     "name": "stdout",
     "output_type": "stream",
     "text": [
      "Available subdirectories:\n",
      "1. .ipynb_checkpoints\n",
      "2. Démonomanie\n",
      "3. République\n",
      "4. Théatre\n"
     ]
    },
    {
     "name": "stdin",
     "output_type": "stream",
     "text": [
      "Select a subdirectory number (leave empty for current directory):  \n"
     ]
    },
    {
     "name": "stdout",
     "output_type": "stream",
     "text": [
      "Available text files:\n",
      "1. Démonomanie III_corrected.txt\n",
      "2. Démonomanie II_corrected.txt\n",
      "3. Démonomanie IV_corrected.txt\n",
      "4. Démonomanie I_corrected.txt\n",
      "5. Démonomanie preface Repair_corrected.txt\n",
      "6. La réponse_corrected.txt\n",
      "7. Le paradoxe_corrected.txt\n",
      "8. Lettre_corrected.txt\n",
      "9. Recueil_corrected.txt\n",
      "10. République III_corrected.txt\n",
      "11. République II_corrected.txt\n",
      "12. République IV_corrected.txt\n",
      "13. République I_corrected.txt\n",
      "14. République VI_corrected.txt\n",
      "15. République V_corrected.txt\n",
      "16. Réublique Preface_corrected.txt\n",
      "17. Théatre III_corrected.txt\n",
      "18. Théatre II_corrected.txt\n",
      "19. Théatre IV_corrected.txt\n",
      "20. Théatre I_corrected.txt\n",
      "21. Théatre V_corrected.txt\n",
      "22. Théatre summary_corrected.txt\n"
     ]
    },
    {
     "name": "stdin",
     "output_type": "stream",
     "text": [
      "Select file numbers (individual or ranges, e.g., 1,3-5):  4\n"
     ]
    },
    {
     "name": "stdout",
     "output_type": "stream",
     "text": [
      "Processed content saved to /home/lucas-jerusalimiec/Documents/OCR Text/Text/Bodin Chapterized/lemmatized/Démonomanie I_corrected_stemmed.txt\n"
     ]
    }
   ],
   "source": [
    "import os\n",
    "from nltk.stem.snowball import SnowballStemmer\n",
    "from french_lefff_lemmatizer.french_lefff_lemmatizer import FrenchLefffLemmatizer\n",
    "\n",
    "# Initialize the stemmer and lemmatizer for French\n",
    "stemmer = SnowballStemmer(language='french')\n",
    "lemmatizer = FrenchLefffLemmatizer()\n",
    "\n",
    "def return_stem(text, use_lemmatizer=True):\n",
    "    # Tokenize the text\n",
    "    tokens = text.split()\n",
    "    # Apply lemmatizer or stemmer based on user choice\n",
    "    if use_lemmatizer:\n",
    "        processed_tokens = [lemmatizer.lemmatize(token) for token in tokens]\n",
    "    else:\n",
    "        processed_tokens = [stemmer.stem(token) for token in tokens]\n",
    "    return ' '.join(processed_tokens)\n",
    "\n",
    "def process_file(file_path, use_lemmatizer=True):\n",
    "    with open(file_path, 'r', encoding='utf-8') as file:\n",
    "        content = file.read()\n",
    "    processed_content = return_stem(content, use_lemmatizer)\n",
    "    return processed_content\n",
    "\n",
    "def save_processed_content(original_file, processed_content):\n",
    "    lemmatized_dir = os.path.join(os.getcwd(), 'lemmatized')\n",
    "    os.makedirs(lemmatized_dir, exist_ok=True)\n",
    "    new_file_name = os.path.splitext(os.path.basename(original_file))[0] + '_stemmed.txt'\n",
    "    new_file_path = os.path.join(lemmatized_dir, new_file_name)\n",
    "    with open(new_file_path, 'w', encoding='utf-8') as file:\n",
    "        file.write(processed_content)\n",
    "    print(f\"Processed content saved to {new_file_path}\")\n",
    "\n",
    "def select_subdirectory():\n",
    "    current_directory = os.getcwd()\n",
    "    subdirectories = sorted([d for d in os.listdir(current_directory) if os.path.isdir(d)])\n",
    "    if not subdirectories:\n",
    "        print(\"No subdirectories found.\")\n",
    "        return None\n",
    "\n",
    "    print(\"Available subdirectories:\")\n",
    "    for i, subdir in enumerate(subdirectories):\n",
    "        print(f\"{i + 1}. {subdir}\")\n",
    "\n",
    "    while True:\n",
    "        user_input = input(\"Select a subdirectory number (leave empty for current directory): \").strip()\n",
    "        if not user_input:\n",
    "            return current_directory\n",
    "\n",
    "        try:\n",
    "            choice = int(user_input) - 1\n",
    "            if choice < 0 or choice >= len(subdirectories):\n",
    "                print(\"Invalid choice. Please enter a valid number.\")\n",
    "                continue\n",
    "            return os.path.join(current_directory, subdirectories[choice])\n",
    "        except ValueError:\n",
    "            print(\"Invalid input. Please enter a number.\")\n",
    "\n",
    "def select_files():\n",
    "    directory = select_subdirectory()\n",
    "    if directory is None:\n",
    "        directory = os.getcwd()\n",
    "\n",
    "    # List all text files in the selected directory\n",
    "    txt_files = sorted([f for f in os.listdir(directory) if f.endswith('.txt')])\n",
    "    if not txt_files:\n",
    "        print(\"No text files found in the selected directory.\")\n",
    "        return []\n",
    "\n",
    "    print(\"Available text files:\")\n",
    "    for i, file in enumerate(txt_files):\n",
    "        print(f\"{i + 1}. {file}\")\n",
    "\n",
    "    selected_files = []\n",
    "    while True:\n",
    "        user_input = input(\"Select file numbers (individual or ranges, e.g., 1,3-5): \")\n",
    "        if not user_input:\n",
    "            break\n",
    "\n",
    "        try:\n",
    "            parts = user_input.split(',')\n",
    "            for part in parts:\n",
    "                if '-' in part:\n",
    "                    start, end = map(int, part.split('-'))\n",
    "                    selected_files.extend(txt_files[start - 1:end])\n",
    "                else:\n",
    "                    selected_files.append(txt_files[int(part) - 1])\n",
    "            break\n",
    "        except (ValueError, IndexError):\n",
    "            print(\"Invalid input. Please enter valid numbers or ranges.\")\n",
    "\n",
    "    selected_files = [os.path.join(directory, file) for file in selected_files]\n",
    "    return selected_files\n",
    "\n",
    "def main():\n",
    "    use_lemmatizer = input(\"Use FrenchLefffLemmatizer? (y/n, default is y): \").strip().lower() != 'n'\n",
    "    file_paths = select_files()\n",
    "    if file_paths:\n",
    "        for file_path in file_paths:\n",
    "            processed_content = process_file(file_path, use_lemmatizer)\n",
    "            save_processed_content(file_path, processed_content)\n",
    "\n",
    "if __name__ == \"__main__\":\n",
    "    main()"
   ]
  }
 ],
 "metadata": {
  "kernelspec": {
   "display_name": "Python 3 (ipykernel)",
   "language": "python",
   "name": "python3"
  },
  "language_info": {
   "codemirror_mode": {
    "name": "ipython",
    "version": 3
   },
   "file_extension": ".py",
   "mimetype": "text/x-python",
   "name": "python",
   "nbconvert_exporter": "python",
   "pygments_lexer": "ipython3",
   "version": "3.12.4"
  }
 },
 "nbformat": 4,
 "nbformat_minor": 5
}
