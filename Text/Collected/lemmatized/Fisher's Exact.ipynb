{
 "cells": [
  {
   "cell_type": "code",
   "execution_count": 1,
   "id": "d77b855c-bf74-4188-8ba7-e7840d4d4874",
   "metadata": {},
   "outputs": [],
   "source": [
    "import os\n",
    "from scipy.stats import fisher_exact"
   ]
  },
  {
   "cell_type": "code",
   "execution_count": 2,
   "id": "14badf4a-fe4e-49ee-b1c5-dd4901d8e596",
   "metadata": {},
   "outputs": [],
   "source": [
    "def tokenize_file(filepath):\n",
    "    with open(filepath, 'r') as file:\n",
    "        return file.read().split()\n",
    "\n",
    "def list_directories(base_directory):\n",
    "    return [d for d in os.listdir(base_directory) if os.path.isdir(os.path.join(base_directory, d))]\n",
    "\n",
    "def choose_directory(directories):\n",
    "    print(\"Select a directory:\")\n",
    "    for i, directory in enumerate(directories):\n",
    "        print(f\"{i + 1}. {directory}\")\n",
    "    choice = int(input(\"Enter your choice: \"))\n",
    "    return directories[choice - 1]\n",
    "\n",
    "def list_files_in_directory(directory):\n",
    "    return [f for f in os.listdir(directory) if f.endswith('.txt')]\n",
    "\n",
    "def choose_files(files):\n",
    "    print(\"Select files to use for calculating r (enter numbers separated by commas):\")\n",
    "    for i, file in enumerate(files):\n",
    "        print(f\"{i + 1}. {file}\")\n",
    "    choices = input(\"Enter your choices: \").split(',')\n",
    "    return [files[int(choice) - 1] for choice in choices]\n",
    "\n",
    "def choose_single_file(files):\n",
    "    print(\"Select a target file:\")\n",
    "    for i, file in enumerate(files):\n",
    "        print(f\"{i + 1}. {file}\")\n",
    "    choice = int(input(\"Enter your choice: \"))\n",
    "    return files[choice - 1]\n",
    "\n",
    "def calculate_fishers_exact():\n",
    "    # Get the current working directory\n",
    "    base_directory = os.getcwd()\n",
    "    directories = list_directories(base_directory)\n",
    "    \n",
    "    if not directories:\n",
    "        print(\"No directories found in the current working directory.\")\n",
    "        return\n",
    "    \n",
    "    # Choose a directory\n",
    "    chosen_directory = choose_directory(directories)\n",
    "    full_directory_path = os.path.join(base_directory, chosen_directory)\n",
    "    \n",
    "    files = list_files_in_directory(full_directory_path)\n",
    "    \n",
    "    if not files:\n",
    "        print(\"No .txt files found in the selected directory.\")\n",
    "        return\n",
    "    \n",
    "    # Choose multiple files for calculating r\n",
    "    file_paths = choose_files(files)\n",
    "    all_words = []\n",
    "    \n",
    "    for file_path in file_paths:\n",
    "        all_words.extend(tokenize_file(os.path.join(full_directory_path, file_path)))\n",
    "    \n",
    "    while True:\n",
    "        # Input target word\n",
    "        target_word = input(\"Enter the target word: \")\n",
    "        \n",
    "        count = all_words.count(target_word)\n",
    "        wc = len(all_words)\n",
    "        \n",
    "        r = count / wc\n",
    "        \n",
    "        # Choose a single file for calculating a and wc\n",
    "        single_file_path = choose_single_file(files)\n",
    "        single_file_words = tokenize_file(os.path.join(full_directory_path, single_file_path))\n",
    "        \n",
    "        a = single_file_words.count(target_word)\n",
    "        wc_single = len(single_file_words)\n",
    "        \n",
    "        b = wc_single - a\n",
    "        c = round(r * wc_single)\n",
    "        d = wc_single - c\n",
    "        \n",
    "        table = [[a, b], [c, d]]\n",
    "        \n",
    "        # Run the Fisher's Exact Test\n",
    "        fe = fisher_exact(table, alternative='greater')\n",
    "        \n",
    "        # Get the p-value\n",
    "        print(\"P-value:\", fe.pvalue)\n",
    "        \n",
    "        # Ask the user whether to quit or calculate for a new target word\n",
    "        choice = input(\"Do you want to quit or calculate Fisher's Exact Test for a new target word? (quit/new): \").strip().lower()\n",
    "        if choice == 'quit':\n",
    "            break"
   ]
  },
  {
   "cell_type": "code",
   "execution_count": null,
   "id": "349a82d9-40ab-484f-95cd-a19d5a2cd817",
   "metadata": {},
   "outputs": [
    {
     "name": "stdout",
     "output_type": "stream",
     "text": [
      "Select a directory:\n",
      "1. Concatenated\n",
      "2. .ipynb_checkpoints\n"
     ]
    },
    {
     "name": "stdin",
     "output_type": "stream",
     "text": [
      "Enter your choice:  1\n"
     ]
    },
    {
     "name": "stdout",
     "output_type": "stream",
     "text": [
      "Select files to use for calculating r (enter numbers separated by commas):\n",
      "1. Bodin.txt\n",
      "2. L'Hospital.txt\n"
     ]
    },
    {
     "name": "stdin",
     "output_type": "stream",
     "text": [
      "Enter your choices:  1,2\n",
      "Enter the target word:  chos\n"
     ]
    },
    {
     "name": "stdout",
     "output_type": "stream",
     "text": [
      "Select a target file:\n",
      "1. Bodin.txt\n",
      "2. L'Hospital.txt\n"
     ]
    },
    {
     "name": "stdin",
     "output_type": "stream",
     "text": [
      "Enter your choice:  1\n"
     ]
    },
    {
     "name": "stdout",
     "output_type": "stream",
     "text": [
      "P-value: 0.19789527129546836\n"
     ]
    },
    {
     "name": "stdin",
     "output_type": "stream",
     "text": [
      "Do you want to quit or calculate Fisher's Exact Test for a new target word? (quit/new):  yes\n"
     ]
    }
   ],
   "source": [
    "# Call the function\n",
    "calculate_fishers_exact()"
   ]
  }
 ],
 "metadata": {
  "kernelspec": {
   "display_name": "Python 3 (ipykernel)",
   "language": "python",
   "name": "python3"
  },
  "language_info": {
   "codemirror_mode": {
    "name": "ipython",
    "version": 3
   },
   "file_extension": ".py",
   "mimetype": "text/x-python",
   "name": "python",
   "nbconvert_exporter": "python",
   "pygments_lexer": "ipython3",
   "version": "3.12.4"
  }
 },
 "nbformat": 4,
 "nbformat_minor": 5
}
