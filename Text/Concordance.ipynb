{
 "cells": [
  {
   "cell_type": "code",
   "execution_count": 4,
   "id": "17330178-d05e-4d1e-ba79-9968768e72a0",
   "metadata": {},
   "outputs": [],
   "source": [
    "import os\n",
    "import nltk\n",
    "\n",
    "# Function to list subfolders in the current directory\n",
    "def list_subfolders():\n",
    "    return [f.name for f in os.scandir() if f.is_dir()]\n",
    "\n",
    "# Function to prompt the user to select a subfolder\n",
    "def prompt_subfolder(subfolders):\n",
    "    for index, folder in enumerate(subfolders, start=1):\n",
    "        print(f\"{index}. {folder}\")\n",
    "    while True:\n",
    "        try:\n",
    "            choice = int(input(\"Select a subfolder by number: \"))\n",
    "            if 1 <= choice <= len(subfolders):\n",
    "                return subfolders[choice - 1]\n",
    "            else:\n",
    "                print(\"Invalid selection. Please try again.\")\n",
    "        except ValueError:\n",
    "            print(\"Please enter a number.\")\n",
    "\n",
    "# Function to find text files in a subfolder\n",
    "def find_text_files(subfolder):\n",
    "    text_files = [f for f in os.listdir(subfolder) if f.endswith('.txt')]\n",
    "    return text_files\n",
    "\n",
    "# Function to prompt the user to select a text file\n",
    "def prompt_text_file(text_files):\n",
    "    for index, file in enumerate(text_files, start=1):\n",
    "        print(f\"{index}. {file}\")\n",
    "    while True:\n",
    "        try:\n",
    "            choice = int(input(\"Select a text file by number: \"))\n",
    "            if 1 <= choice <= len(text_files):\n",
    "                return text_files[choice - 1]\n",
    "            else:\n",
    "                print(\"Invalid selection. Please try again.\")\n",
    "        except ValueError:\n",
    "            print(\"Please enter a number.\")\n",
    "\n",
    "# Function to process the selected text file\n",
    "def process_text_file(file_path):\n",
    "    with open(file_path, 'r') as f:\n",
    "        file_contents = f.read().lower()\n",
    "        tokens = nltk.wordpunct_tokenize(file_contents)\n",
    "        text = nltk.Text(tokens)\n",
    "        return text"
   ]
  },
  {
   "cell_type": "code",
   "execution_count": 5,
   "id": "3168c82f-aaca-4604-8c5f-d30e75fd5f09",
   "metadata": {},
   "outputs": [
    {
     "name": "stdout",
     "output_type": "stream",
     "text": [
      "1. .ipynb_checkpoints\n",
      "2. Concatenated\n",
      "3. concordances\n",
      "4. output\n",
      "5. pdfs\n",
      "6. tokenized\n",
      "7. __pycache__\n"
     ]
    },
    {
     "name": "stdin",
     "output_type": "stream",
     "text": [
      "Select a subfolder by number:  2\n"
     ]
    },
    {
     "name": "stdout",
     "output_type": "stream",
     "text": [
      "1. Cummings.txt\n",
      "2. Test.txt\n"
     ]
    },
    {
     "name": "stdin",
     "output_type": "stream",
     "text": [
      "Select a text file by number:  1\n"
     ]
    },
    {
     "name": "stdout",
     "output_type": "stream",
     "text": [
      "Type of 'text': <class 'nltk.text.Text'>\n"
     ]
    }
   ],
   "source": [
    "subfolders = list_subfolders()\n",
    "if subfolders:\n",
    "    selected_subfolder = prompt_subfolder(subfolders)\n",
    "    subfolder_path = os.path.join(os.getcwd(), selected_subfolder)\n",
    "    text_files = find_text_files(subfolder_path)\n",
    "    if text_files:\n",
    "        selected_file = prompt_text_file(text_files)\n",
    "        full_file_path = os.path.join(subfolder_path, selected_file)\n",
    "        text_data = process_text_file(full_file_path)\n",
    "        print(f\"Type of 'text': {type(text_data)}\")\n",
    "    else:\n",
    "        print(f\"No text files found in '{selected_subfolder}'.\")\n",
    "else:\n",
    "    print(\"No subfolders found in the current directory.\")"
   ]
  },
  {
   "cell_type": "code",
   "execution_count": 10,
   "id": "1eaf98d6-bd72-446e-aa66-fdd4e378c6d2",
   "metadata": {},
   "outputs": [
    {
     "name": "stdin",
     "output_type": "stream",
     "text": [
      "Enter words to find their concordance (separated by commas):  manpower needs\n"
     ]
    },
    {
     "name": "stdout",
     "output_type": "stream",
     "text": [
      "Displaying 4 of 4 matches:\n",
      "s , like the paris parlement , to fill the manpower needs of the state , the monarchy , seeking to r\n",
      "s , like the paris parlement , to fill the manpower needs of the state , the monarchy , seeking to r\n",
      "s , like the paris parlement , to fill the manpower needs of the state , the monarchy , seeking to r\n",
      "s , like the paris parlement , to fill the manpower needs of the state , chapter v shows how the los\n",
      "Concordance for the tokens manpower needs has been saved to concordances\\manpower_needs.txt\n"
     ]
    }
   ],
   "source": [
    "import os\n",
    "\n",
    "def search_concordance(text_data, tokens, width):\n",
    "    # Create the directory if it does not exist\n",
    "    directory = 'concordances'\n",
    "    if not os.path.exists(directory):\n",
    "        os.makedirs(directory)\n",
    "\n",
    "    # Join tokens to form the filename\n",
    "    filename = \"_\".join(tokens) + '.txt'\n",
    "    file_path = os.path.join(directory, filename)\n",
    "\n",
    "    with open(file_path, 'w') as file:\n",
    "        # Create the concordance object and display it\n",
    "        concordance_list = text_data.concordance_list(tokens, width=width)\n",
    "        text_data.concordance(tokens, width=width)\n",
    "\n",
    "        # Write each concordance line to the file\n",
    "        for conc_line in concordance_list:\n",
    "            file.write(' '.join(conc_line.line) + '\\n')\n",
    "        file.write('\\n')  # Add a newline to separate concordances of different tokens\n",
    "\n",
    "    print(f'Concordance for the tokens {\" \".join(tokens)} has been saved to {file_path}')\n",
    "\n",
    "# Example usage\n",
    "user_input = input(\"Enter words to find their concordance (separated by spaces): \")\n",
    "tokens = [word.strip() for word in user_input.split(' ')]  # Split the input into a list of tokens\n",
    "width = int(input(\"Enter the width for the concordance display: \"))  # Ask the user for the width\n",
    "search_concordance(text_data, tokens, width)"
   ]
  },
  {
   "cell_type": "code",
   "execution_count": 16,
   "id": "855826a0-0f34-440d-81b8-eebfddb25967",
   "metadata": {},
   "outputs": [
    {
     "name": "stdin",
     "output_type": "stream",
     "text": [
      "Enter a directory name (default is 'dispersion_plots'):  plots\n",
      "Enter words to find their concordance (separated by spaces):  parliamentary officer\n"
     ]
    },
    {
     "name": "stdout",
     "output_type": "stream",
     "text": [
      "Dispersion plot for ['parliamentary', 'officer'] has been saved to plots\\parliamentary_officer.jpg\n"
     ]
    },
    {
     "data": {
      "image/png": "[encoded data removed]",
      "text/plain": [
       "<Figure size 640x480 with 1 Axes>"
      ]
     },
     "metadata": {},
     "output_type": "display_data"
    },
    {
     "data": {
      "text/plain": [
       "<Figure size 640x480 with 0 Axes>"
      ]
     },
     "metadata": {},
     "output_type": "display_data"
    }
   ],
   "source": [
    "import matplotlib.pyplot as plt\n",
    "\n",
    "def save_dispersion_plot(tokens, directory='dispersion_plots'):\n",
    "    # Create the dispersion plot\n",
    "    plt.figure()\n",
    "    text_data.dispersion_plot(tokens)\n",
    "    \n",
    "    # Create the directory if it does not exist\n",
    "    if not os.path.exists(directory):\n",
    "        os.makedirs(directory)\n",
    "\n",
    "    # Save the plot as a JPG file\n",
    "    filename = '_'.join(tokens) + '.jpg'\n",
    "    file_path = os.path.join(directory, filename)\n",
    "    plt.savefig(file_path, format='jpg')\n",
    "    plt.close()\n",
    "\n",
    "    print(f'Dispersion plot for {tokens} has been saved to {file_path}')\n",
    "\n",
    "# Tokens to create dispersion plot for\n",
    "user_directory = input(\"Enter a directory name (default is 'dispersion_plots'): \")\n",
    "user_input = input(\"Enter words to find their concordance (separated by spaces): \")\n",
    "tokens = [word.strip() for word in user_input.split(' ')]  # Split the input into a list of tokens\n",
    "\n",
    "text_data.dispersion_plot(tokens)\n",
    "\n",
    "# Call the function to save the plot\n",
    "save_dispersion_plot(tokens, directory=user_directory if user_directory else 'dispersion_plots')\n"
   ]
  }
 ],
 "metadata": {
  "kernelspec": {
   "display_name": "Python 3 (ipykernel)",
   "language": "python",
   "name": "python3"
  },
  "language_info": {
   "codemirror_mode": {
    "name": "ipython",
    "version": 3
   },
   "file_extension": ".py",
   "mimetype": "text/x-python",
   "name": "python",
   "nbconvert_exporter": "python",
   "pygments_lexer": "ipython3",
   "version": "3.12.4"
  }
 },
 "nbformat": 4,
 "nbformat_minor": 5
}
