{
 "cells": [
  {
   "cell_type": "code",
   "execution_count": 1,
   "id": "54bf6974-56fe-490b-9b06-61bd6634a710",
   "metadata": {},
   "outputs": [],
   "source": [
    "from pathlib import Path\n",
    "import glob\n",
    "import os\n",
    "import sys\n",
    "import csv\n",
    "import nltk\n",
    "from collections import Counter\n",
    "from nltk.tokenize import word_tokenize,wordpunct_tokenize\n",
    "from nltk.collocations import BigramCollocationFinder, BigramAssocMeasures, TrigramCollocationFinder, TrigramAssocMeasures"
   ]
  },
  {
   "cell_type": "code",
   "execution_count": 2,
   "id": "5d91501f-4ea8-4a51-80e4-5b2c3d87f815",
   "metadata": {},
   "outputs": [],
   "source": [
    "sys.path.append(\"/home/lucas-jerusalimiec/Documents/OCR Text/Notebooks\")\n",
    "from tokenizer_func  import (wordcleaner, write_words_to_file, dictionary_to_file, convert_tuple_bigrams,\n",
    "convert_tuple_trigrams)\n",
    "\n",
    "from extra_token_func import print_first_n_items, remove_keys_from_nested_dict\n",
    "\n",
    "from additional_token_func import convert_strings_to_counts\n",
    "\n",
    "from dict_write import write_dict_to_files_with_suffix"
   ]
  },
  {
   "cell_type": "code",
   "execution_count": 3,
   "id": "4d557ac9-168b-4b35-ac00-28687dd85cc3",
   "metadata": {},
   "outputs": [
    {
     "name": "stdout",
     "output_type": "stream",
     "text": [
      "Text files in the spellchecked directory: ['final/Remonstrances - parlement_corrected.txt', 'final/Remonstrances - Royaume_corrected.txt']\n"
     ]
    }
   ],
   "source": [
    "text_loc = Path(\"./final\")\n",
    "text_files = glob.glob(f\"{text_loc}/*.txt\")\n",
    "output_folder = './tokenized/'\n",
    "tokenized_folder = Path(output_folder)\n",
    "tokenized_folder.mkdir(exist_ok=True)\n",
    "\n",
    "output_unigram = f'{output_folder}unigram_counts'\n",
    "unigram_folder = Path(output_unigram)\n",
    "unigram_folder.mkdir(exist_ok=True)\n",
    "\n",
    "output_bigram = f'{output_folder}bigram_counts'\n",
    "bigram_folder = Path(output_bigram)\n",
    "bigram_folder.mkdir(exist_ok=True)\n",
    "\n",
    "output_trigram = f'{output_folder}trigram_counts'\n",
    "trigram_folder = Path(output_trigram)\n",
    "trigram_folder.mkdir(exist_ok=True)\n",
    "\n",
    "output_collocation = f'{output_folder}collocation_counts'\n",
    "collocation_folder = Path(output_collocation)\n",
    "collocation_folder.mkdir(exist_ok=True)\n",
    "\n",
    "output_trigram_collocation = f'{output_folder}trigram_collocation_counts'\n",
    "trigram_collocation_folder = Path(output_trigram_collocation)\n",
    "trigram_collocation_folder.mkdir(exist_ok=True)\n",
    "\n",
    "output_underscore = f'{output_folder}underscore_bigrams'\n",
    "underscore_folder = Path(output_underscore)\n",
    "underscore_folder.mkdir(exist_ok=True)\n",
    "\n",
    "output_trigram_underscore = f'{output_folder}underscore_trigrams'\n",
    "trigram_underscore_folder = Path(output_trigram_underscore)\n",
    "trigram_underscore_folder.mkdir(exist_ok=True)\n",
    "\n",
    "print(\"Text files in the spellchecked directory:\", text_files)"
   ]
  },
  {
   "cell_type": "code",
   "execution_count": 4,
   "id": "3fa6226b-1236-4eb7-b4b3-7b8c79c0a6ea",
   "metadata": {},
   "outputs": [
    {
     "data": {
      "text/plain": [
       "['aaa', 'lzs', 'ar', 'ara', 'bl', 'ua', 'rar', 'rr', 'iir', 'tett']"
      ]
     },
     "execution_count": 4,
     "metadata": {},
     "output_type": "execute_result"
    }
   ],
   "source": [
    "# Open stopwords CSV file and list the contents\n",
    "with open('./stop_words.csv', 'r') as f:\n",
    "    stopwords = f.read().strip().split(\",\")\n",
    "stopwords[-10:]"
   ]
  },
  {
   "cell_type": "code",
   "execution_count": 5,
   "id": "b085009a-d824-4bf2-aedc-fd567abf2dc6",
   "metadata": {},
   "outputs": [
    {
     "name": "stdout",
     "output_type": "stream",
     "text": [
      "Raw texts: ['Remonstrances - parlement_corrected', 'Remonstrances - Royaume_corrected']\n"
     ]
    }
   ],
   "source": [
    "tokenized_texts = {}\n",
    "for txt in text_files:\n",
    "    with open(txt, 'r') as f:\n",
    "        content = f.read()\n",
    "        file_name = txt.split('\\\\')[-1]\n",
    "        #key = file_name.split('.')[0]\n",
    "        key = os.path.splitext(os.path.basename(file_name))[0]\n",
    "        tokenized_texts[key] = content\n",
    "print(\"Raw texts:\", list(tokenized_texts.keys()))       "
   ]
  },
  {
   "cell_type": "code",
   "execution_count": 6,
   "id": "6f8cc71e-5849-4195-8b5c-585cc06d2916",
   "metadata": {},
   "outputs": [
    {
     "name": "stdout",
     "output_type": "stream",
     "text": [
      "Saved content for 'Remonstrances - parlement_corrected' to ./tokenized/Remonstrances - parlement_corrected.txt\n",
      "Saved content for 'Remonstrances - Royaume_corrected' to ./tokenized/Remonstrances - Royaume_corrected.txt\n"
     ]
    }
   ],
   "source": [
    "unigrams = {}\n",
    "\n",
    "for key, value in tokenized_texts.items():\n",
    "    unigram_list = wordpunct_tokenize(value)\n",
    "    cleanwords = [wordcleaner(w) for w in unigram_list]\n",
    "    unigrams[key] = cleanwords\n",
    "\n",
    "for key, value in unigrams.items():\n",
    "    filename = f\"./tokenized/{key}.txt\"\n",
    "    write_words_to_file(value, filename, words_per_line=20)\n",
    "    print(f\"Saved content for '{key}' to {filename}\")"
   ]
  },
  {
   "cell_type": "code",
   "execution_count": 7,
   "id": "d044c3f8-9aab-4362-8b85-a3709e228a06",
   "metadata": {},
   "outputs": [
    {
     "name": "stdout",
     "output_type": "stream",
     "text": [
      "Unigram texts:\n",
      "Remonstrances - parlement_corrected\n",
      "Remonstrances - Royaume_corrected\n"
     ]
    }
   ],
   "source": [
    "print(\"Unigram texts:\")\n",
    "for key in unigrams:\n",
    "    print(key)"
   ]
  },
  {
   "cell_type": "code",
   "execution_count": 8,
   "id": "51492bb5-b662-4e41-bf0d-35e2bd3e3e5a",
   "metadata": {
    "scrolled": true
   },
   "outputs": [
    {
     "name": "stdout",
     "output_type": "stream",
     "text": [
      "Unigram Counts:\n",
      "Remonstrances - parlement_corrected\n",
      "Remonstrances - Royaume_corrected\n",
      "First 25 items in Remonstrances - parlement_corrected:\n",
      ": 1464\n",
      "et: 222\n",
      "de: 168\n",
      "les: 166\n",
      "que: 140\n",
      "la: 119\n",
      "le: 112\n",
      "en: 109\n",
      "qui: 99\n",
      "des: 93\n",
      "ne: 92\n",
      "est: 92\n",
      "qu: 79\n",
      "y: 78\n",
      "à: 73\n",
      "l: 72\n",
      "il: 70\n",
      "a: 68\n",
      "pour: 61\n",
      "n: 58\n",
      "vous: 56\n",
      "d: 53\n",
      "ce: 50\n",
      "du: 45\n",
      "par: 44\n",
      "\n",
      "First 25 items in Remonstrances - Royaume_corrected:\n",
      ": 723\n",
      "et: 111\n",
      "de: 110\n",
      "les: 79\n",
      "a: 63\n",
      "la: 60\n",
      "le: 59\n",
      "est: 59\n",
      "en: 59\n",
      "l: 58\n",
      "que: 57\n",
      "il: 57\n",
      "à: 49\n",
      "ne: 46\n",
      "y: 45\n",
      "des: 43\n",
      "qui: 41\n",
      "pour: 36\n",
      "qu: 36\n",
      "d: 32\n",
      "on: 32\n",
      "aultres: 26\n",
      "par: 26\n",
      "n: 24\n",
      "du: 22\n",
      "\n"
     ]
    }
   ],
   "source": [
    "# Count up the tokens using a Counter() object\n",
    "unigram_counts = {}\n",
    "for key, value in unigrams.items():\n",
    "    unigram_counts_dict = Counter(value)\n",
    "    unigram_counts[key] = unigram_counts_dict\n",
    "\n",
    "print(\"Unigram Counts:\")\n",
    "for key in unigram_counts:\n",
    "    print(key)\n",
    "\n",
    "print_first_n_items(unigram_counts, 25)"
   ]
  },
  {
   "cell_type": "code",
   "execution_count": 9,
   "id": "1300638a-16da-4c7f-8e9c-1de304b45009",
   "metadata": {},
   "outputs": [
    {
     "name": "stdout",
     "output_type": "stream",
     "text": [
      "First 30 items in Remonstrances - parlement_corrected:\n",
      "roy: 41\n",
      "plus: 32\n",
      "judges: 31\n",
      "aultres: 30\n",
      "harangues: 27\n",
      "bien: 27\n",
      "si: 24\n",
      "estre: 23\n",
      "comme: 21\n",
      "procez: 21\n",
      "faict: 20\n",
      "justice: 17\n",
      "roys: 17\n",
      "ceste: 16\n",
      "temps: 16\n",
      "dict: 15\n",
      "leurs: 15\n",
      "non: 14\n",
      "chose: 13\n",
      "aultre: 13\n",
      "partyes: 13\n",
      "fault: 13\n",
      "faire: 12\n",
      "quand: 12\n",
      "grand: 11\n",
      "céans: 11\n",
      "peult: 11\n",
      "avoir: 11\n",
      "tant: 11\n",
      "tout: 11\n",
      "\n",
      "First 30 items in Remonstrances - Royaume_corrected:\n",
      "aultres: 26\n",
      "roy: 20\n",
      "plus: 18\n",
      "ceste: 14\n",
      "faict: 14\n",
      "mal: 13\n",
      "sans: 13\n",
      "court: 12\n",
      "peult: 11\n",
      "comme: 11\n",
      "fault: 10\n",
      "harangues: 9\n",
      "justice: 8\n",
      "tout: 8\n",
      "faire: 8\n",
      "religion: 8\n",
      "royaume: 7\n",
      "tant: 7\n",
      "quand: 7\n",
      "bien: 7\n",
      "avoir: 7\n",
      "gens: 7\n",
      "aussi: 7\n",
      "conseil: 6\n",
      "seigneur: 6\n",
      "dict: 6\n",
      "venir: 6\n",
      "dire: 6\n",
      "ledict: 6\n",
      "debtes: 6\n",
      "\n"
     ]
    }
   ],
   "source": [
    "# Remove specified keys from the dictionary\n",
    "stripped_unigrams = remove_keys_from_nested_dict(unigram_counts, stopwords)\n",
    "\n",
    "print_first_n_items(stripped_unigrams, 30)"
   ]
  },
  {
   "cell_type": "code",
   "execution_count": 10,
   "id": "d2d63ded-ea90-4894-af13-c8373b235afe",
   "metadata": {},
   "outputs": [
    {
     "name": "stdout",
     "output_type": "stream",
     "text": [
      "Saved Remonstrances - parlement_corrected_unigram_counts.csv in tokenized/unigram_counts\n",
      "Saved Remonstrances - Royaume_corrected_unigram_counts.csv in tokenized/unigram_counts\n"
     ]
    }
   ],
   "source": [
    "dictionary_to_file(stripped_unigrams, unigram_folder, 'unigram_counts')"
   ]
  },
  {
   "cell_type": "code",
   "execution_count": 11,
   "id": "4d6661b6-baf5-47d8-a58b-49bfedc0a32c",
   "metadata": {},
   "outputs": [
    {
     "name": "stdout",
     "output_type": "stream",
     "text": [
      "Bigrams:\n",
      "Remonstrances - parlement_corrected\n",
      "Remonstrances - Royaume_corrected\n"
     ]
    }
   ],
   "source": [
    "bigrams = {}\n",
    "\n",
    "for key, value in unigrams.items():\n",
    "    unigram_list = [word for word in value if word.lower() not in stopwords]\n",
    "    #unigram_list = [word for word in value]\n",
    "    bigrams_list = list(nltk.bigrams(unigram_list))\n",
    "    bigrams[key] = bigrams_list\n",
    "\n",
    "print(\"Bigrams:\")\n",
    "for key in bigrams:\n",
    "    print(key)"
   ]
  },
  {
   "cell_type": "code",
   "execution_count": 12,
   "id": "24b278bb-d5b9-436c-8a31-3d626532ca5c",
   "metadata": {},
   "outputs": [
    {
     "name": "stdout",
     "output_type": "stream",
     "text": [
      "Bigram Counts:\n",
      "Remonstrances - parlement_corrected\n",
      "Remonstrances - Royaume_corrected\n",
      "First 30 items in Remonstrances - parlement_corrected:\n",
      "ceste compaignie: 6\n",
      "comme dict: 6\n",
      "bien faict: 4\n",
      "genz roy: 4\n",
      "aultres judges: 3\n",
      "bon judge: 3\n",
      "aultre chose: 3\n",
      "entre eulx: 3\n",
      "baillifs séneschaulx: 3\n",
      "doibvent estre: 3\n",
      "long temps: 3\n",
      "tous jours: 2\n",
      "lieu où: 2\n",
      "aulcune chose: 2\n",
      "plus excellent: 2\n",
      "service roy: 2\n",
      "princes chanceliers: 2\n",
      "dicts affaires: 2\n",
      "chanceliers comme: 2\n",
      "intelligence peult: 2\n",
      "justice judges: 2\n",
      "leurs offices: 2\n",
      "faire procez: 2\n",
      "fault faire: 2\n",
      "celuy plainct: 2\n",
      "bons judges: 2\n",
      "vir bonus: 2\n",
      "homme bien: 2\n",
      "genz bien: 2\n",
      "temps passé: 2\n",
      "\n",
      "First 30 items in Remonstrances - Royaume_corrected:\n",
      "ledict seigneur: 4\n",
      "ceste court: 4\n",
      "ladicte court: 3\n",
      "roy faict: 3\n",
      "monsieur chancelier: 2\n",
      "cette compagnie: 2\n",
      "compagnie laquelle: 2\n",
      "roy commandé: 2\n",
      "commandé dire: 2\n",
      "ceste ville: 2\n",
      "feu roy: 2\n",
      "grands affaires: 2\n",
      "deux trois: 2\n",
      "quatre cinq: 2\n",
      "comme ceste: 2\n",
      "meurs corrompeuz: 2\n",
      "quant religion: 2\n",
      "tous jours: 2\n",
      "mal contens: 2\n",
      "mal aisé: 2\n",
      "facon vivre: 2\n",
      "cy devant: 2\n",
      "faict comme: 2\n",
      "bon ordre: 2\n",
      "entre eulx: 2\n",
      "remonstrances monsieur: 1\n",
      "chancelier hospital: 1\n",
      "hospital parlement: 1\n",
      "parlement touchant: 1\n",
      "touchant estat: 1\n",
      "\n"
     ]
    }
   ],
   "source": [
    "bigram_counts = {}\n",
    "\n",
    "for key, value in bigrams.items():\n",
    "    string_bigrams = convert_tuple_bigrams(value)\n",
    "    bigramCount = convert_strings_to_counts(string_bigrams)\n",
    "    bigram_counts[key] = bigramCount\n",
    "\n",
    "print(\"Bigram Counts:\")\n",
    "for key in bigram_counts:\n",
    "    print(key)\n",
    "\n",
    "print_first_n_items(bigram_counts, 30)"
   ]
  },
  {
   "cell_type": "code",
   "execution_count": 13,
   "id": "2c4eb003-3c3c-4d9e-b5e9-1979bd1a3fd4",
   "metadata": {},
   "outputs": [
    {
     "name": "stdout",
     "output_type": "stream",
     "text": [
      "Saved Remonstrances - parlement_corrected_bigram_counts.csv in tokenized/bigram_counts\n",
      "Saved Remonstrances - Royaume_corrected_bigram_counts.csv in tokenized/bigram_counts\n"
     ]
    }
   ],
   "source": [
    "dictionary_to_file(bigram_counts, bigram_folder, 'bigram_counts')"
   ]
  },
  {
   "cell_type": "code",
   "execution_count": 14,
   "id": "dfe978cd-c9e2-46c6-9c37-fbb524fbbd48",
   "metadata": {},
   "outputs": [
    {
     "name": "stdout",
     "output_type": "stream",
     "text": [
      "Trigrams:\n",
      "Remonstrances - parlement_corrected\n",
      "Remonstrances - Royaume_corrected\n"
     ]
    }
   ],
   "source": [
    "trigrams = {}\n",
    "\n",
    "for key, value in unigrams.items():\n",
    "    unigram_list = [word for word in value if word.lower() not in stopwords]\n",
    "    #unigram_list = [word for word in value]\n",
    "    trigrams_list = list(nltk.trigrams(unigram_list))\n",
    "    trigrams[key] = trigrams_list\n",
    "\n",
    "print(\"Trigrams:\")\n",
    "for key in bigrams:\n",
    "    print(key)"
   ]
  },
  {
   "cell_type": "code",
   "execution_count": 15,
   "id": "0b2a5667-7557-49d9-9904-184526684891",
   "metadata": {},
   "outputs": [
    {
     "name": "stdout",
     "output_type": "stream",
     "text": [
      "Trigram Counts:\n",
      "Remonstrances - parlement_corrected\n",
      "Remonstrances - Royaume_corrected\n",
      "First 30 items in Remonstrances - parlement_corrected:\n",
      "aultres lettres patentes: 2\n",
      "scavoient tant loyx: 2\n",
      "douze cents escus: 2\n",
      "remonstrances chancelier hospital: 1\n",
      "chancelier hospital court: 1\n",
      "hospital court parlement: 1\n",
      "court parlement juillet: 1\n",
      "parlement juillet pe: 1\n",
      "juillet pe rs: 1\n",
      "pe rs encore: 1\n",
      "rs encore veoye: 1\n",
      "encore veoye tous: 1\n",
      "veoye tous jours: 1\n",
      "tous jours esprit: 1\n",
      "jours esprit bénévolement: 1\n",
      "esprit bénévolement souvent: 1\n",
      "bénévolement souvent aulcung: 1\n",
      "souvent aulcung personne: 1\n",
      "aulcung personne toutesfois: 1\n",
      "personne toutesfois prends: 1\n",
      "toutesfois prends grand: 1\n",
      "prends grand playsir: 1\n",
      "grand playsir veoir: 1\n",
      "playsir veoir tous: 1\n",
      "veoir tous ensemble: 1\n",
      "tous ensemble lieu: 1\n",
      "ensemble lieu où: 1\n",
      "lieu où jay: 1\n",
      "où jay usé: 1\n",
      "jay usé partie: 1\n",
      "\n",
      "First 30 items in Remonstrances - Royaume_corrected:\n",
      "cette compagnie laquelle: 2\n",
      "roy commandé dire: 2\n",
      "remonstrances monsieur chancelier: 1\n",
      "monsieur chancelier hospital: 1\n",
      "chancelier hospital parlement: 1\n",
      "hospital parlement touchant: 1\n",
      "parlement touchant estat: 1\n",
      "touchant estat royaume: 1\n",
      "estat royaume distribution: 1\n",
      "royaume distribution justice: 1\n",
      "distribution justice union: 1\n",
      "justice union entre: 1\n",
      "union entre officiers: 1\n",
      "entre officiers icelle: 1\n",
      "officiers icelle voyez: 1\n",
      "icelle voyez essai: 1\n",
      "voyez essai vie: 1\n",
      "essai vie ouvrages: 1\n",
      "vie ouvrages hospital: 1\n",
      "ouvrages hospital page: 1\n",
      "hospital page crrounv: 1\n",
      "page crrounv avr: 1\n",
      "crrounv avr monsieur: 1\n",
      "avr monsieur chancelier: 1\n",
      "monsieur chancelier france: 1\n",
      "chancelier france messire: 1\n",
      "france messire michel: 1\n",
      "messire michel hospital: 1\n",
      "michel hospital chevalier: 1\n",
      "hospital chevalier veneu: 1\n",
      "\n"
     ]
    }
   ],
   "source": [
    "trigram_counts = {}\n",
    "\n",
    "for key, value in trigrams.items():\n",
    "    string_trigrams = convert_tuple_trigrams(value)\n",
    "    trigramCount = convert_strings_to_counts(string_trigrams)\n",
    "    trigram_counts[key] = trigramCount\n",
    "\n",
    "print(\"Trigram Counts:\")\n",
    "for key in trigram_counts:\n",
    "    print(key)\n",
    "    \n",
    "print_first_n_items(trigram_counts, 30)"
   ]
  },
  {
   "cell_type": "code",
   "execution_count": 16,
   "id": "d36ad6c4-4f5b-4d15-b463-25318d4095b4",
   "metadata": {},
   "outputs": [
    {
     "name": "stdout",
     "output_type": "stream",
     "text": [
      "Saved Remonstrances - parlement_corrected_trigram_counts.csv in tokenized/trigram_counts\n",
      "Saved Remonstrances - Royaume_corrected_trigram_counts.csv in tokenized/trigram_counts\n"
     ]
    }
   ],
   "source": [
    "dictionary_to_file(trigram_counts, trigram_folder, 'trigram_counts')"
   ]
  },
  {
   "cell_type": "code",
   "execution_count": 17,
   "id": "58fd2be9-d9ed-4c35-b058-5a1f944e992a",
   "metadata": {},
   "outputs": [
    {
     "name": "stdout",
     "output_type": "stream",
     "text": [
      "Collocations:\n",
      "Remonstrances - parlement_corrected\n",
      "Remonstrances - Royaume_corrected\n",
      "Collocation Counts:\n",
      "Remonstrances - parlement_corrected\n",
      "ceste compaignie 6\n",
      "comme dict 6\n",
      "bien faict 4\n",
      "genz roy 4\n",
      "aultres judges 3\n",
      "bon judge 3\n",
      "aultre chose 3\n",
      "entre eulx 3\n",
      "baillifs séneschaulx 3\n",
      "doibvent estre 3\n",
      "long temps 3\n",
      "\n",
      "Remonstrances - Royaume_corrected\n",
      "ledict seigneur 4\n",
      "ceste court 4\n",
      "ladicte court 3\n",
      "roy faict 3\n",
      "\n",
      "Saved Remonstrances - parlement_corrected_collocation_counts.csv in tokenized/collocation_counts\n",
      "Saved Remonstrances - Royaume_corrected_collocation_counts.csv in tokenized/collocation_counts\n"
     ]
    }
   ],
   "source": [
    "colloc_dict = {}\n",
    "colloc_counts = {}\n",
    "\n",
    "for key, value in unigrams.items():\n",
    "    unigram_list = [word for word in value if word.lower() not in stopwords]\n",
    "    bigram_finder = BigramCollocationFinder.from_words(unigram_list)\n",
    "    bigram_finder.apply_freq_filter(3)  # Make sure all collocations have occurred at least 5 times\n",
    "    collocations = bigram_finder.nbest(BigramAssocMeasures.pmi, 500)\n",
    "    colloc_dict[key] = collocations\n",
    "    \n",
    "    # Initialize Counter for colloc_counts\n",
    "    bigram_count_dict = Counter()\n",
    "\n",
    "    # Count the occurrences of each bigram in the text\n",
    "    bigram_finder = BigramCollocationFinder.from_words(unigram_list)\n",
    "    bigram_freqs = bigram_finder.ngram_fd.items()\n",
    "    \n",
    "    # Filter bigram counts based on collocations\n",
    "    for bigram, count in bigram_freqs:\n",
    "        if bigram in collocations:\n",
    "            bigram_count_dict[bigram] = count\n",
    "\n",
    "    colloc_counts[key] = bigram_count_dict\n",
    "\n",
    "print(\"Collocations:\")\n",
    "for key, value in colloc_dict.items():\n",
    "    print(key)\n",
    "    # for w1, w2 in value:\n",
    "    #     print(' ', w1, w2)\n",
    "\n",
    "print(\"Collocation Counts:\")\n",
    "for key in colloc_counts:\n",
    "    print(key)\n",
    "    # Print first n items, assuming print_first_n_items function is defined elsewhere\n",
    "    for item, count in colloc_counts[key].most_common(30):\n",
    "        bigram = \" \".join(item)\n",
    "        print(f\"{bigram} {count}\")\n",
    "    print()\n",
    "\n",
    "dictionary_to_file(colloc_counts, collocation_folder, 'collocation_counts')"
   ]
  },
  {
   "cell_type": "code",
   "execution_count": 18,
   "id": "d4f5f4c8-a3e2-4e10-9a2f-b3369eced597",
   "metadata": {},
   "outputs": [
    {
     "name": "stdout",
     "output_type": "stream",
     "text": [
      "Trigram Collocations:\n",
      "Remonstrances - parlement_corrected\n",
      "Remonstrances - Royaume_corrected\n",
      "Trigram Collocation Counts:\n",
      "Remonstrances - parlement_corrected\n",
      "\n",
      "Remonstrances - Royaume_corrected\n",
      "\n",
      "Saved Remonstrances - parlement_corrected_trigram_collocation_counts.csv in tokenized/trigram_collocation_counts\n",
      "Saved Remonstrances - Royaume_corrected_trigram_collocation_counts.csv in tokenized/trigram_collocation_counts\n"
     ]
    }
   ],
   "source": [
    "trigram_colloc_dict = {}\n",
    "trigram_colloc_counts = {}\n",
    "\n",
    "for key, value in unigrams.items():\n",
    "    unigram_list = [word for word in value if word.lower() not in stopwords]\n",
    "    trigram_finder = TrigramCollocationFinder.from_words(unigram_list)\n",
    "    trigram_finder.apply_freq_filter(3)  # Ensure all collocations have occurred at least 5 times\n",
    "    collocations = trigram_finder.nbest(TrigramAssocMeasures.pmi, 500)\n",
    "    trigram_colloc_dict[key] = collocations\n",
    "    \n",
    "    # Initialize Counter for trigram_colloc_counts\n",
    "    trigram_count_dict = Counter()\n",
    "\n",
    "    # Count the occurrences of each trigram in the text\n",
    "    trigram_freqs = trigram_finder.ngram_fd.items()\n",
    "    \n",
    "    # Filter trigram counts based on collocations\n",
    "    for trigram, count in trigram_freqs:\n",
    "        if trigram in collocations:\n",
    "            trigram_count_dict[trigram] = count\n",
    "\n",
    "    trigram_colloc_counts[key] = trigram_count_dict\n",
    "\n",
    "print(\"Trigram Collocations:\")\n",
    "for key, value in trigram_colloc_dict.items():\n",
    "    print(key)\n",
    "    #for w1, w2, w3 in value:\n",
    "    #    print(' ', w1, w2, w3)\n",
    "\n",
    "print(\"Trigram Collocation Counts:\")\n",
    "for key in trigram_colloc_counts:\n",
    "    print(key)\n",
    "    # Print first n items, assuming print_first_n_items function is defined elsewhere\n",
    "    for item, count in trigram_colloc_counts[key].most_common(30):\n",
    "        trigram = \" \".join(item)\n",
    "        print(f\"{trigram} {count}\")\n",
    "    print()\n",
    "\n",
    "dictionary_to_file(trigram_colloc_counts, trigram_collocation_folder, 'trigram_collocation_counts')"
   ]
  },
  {
   "cell_type": "code",
   "execution_count": 19,
   "id": "6b890221-5827-4d01-a9ab-9726fde00e67",
   "metadata": {},
   "outputs": [
    {
     "name": "stdout",
     "output_type": "stream",
     "text": [
      "Underscore Dictionary:\n",
      "Remonstrances - parlement_corrected\n",
      "Remonstrances - Royaume_corrected\n",
      "Remonstrances - parlement_corrected_underscore_bigrams.txt in tokenized/underscore_bigrams\n",
      "Remonstrances - Royaume_corrected_underscore_bigrams.txt in tokenized/underscore_bigrams\n"
     ]
    }
   ],
   "source": [
    "underscore_dict = {}\n",
    "for key, value in unigrams.items():\n",
    "\n",
    "    tokenized_words = unigrams.get(key)\n",
    "    collocations = colloc_dict.get(key)\n",
    "    \n",
    "    colloc_words = []\n",
    "    \n",
    "    # Iterate through the words making new versions combining collocations\n",
    "    i = 0\n",
    "    while i < len(tokenized_words) - 1:\n",
    "        # If we find a collocation, add and advance by two words\n",
    "        if (tokenized_words[i], tokenized_words[i + 1]) in collocations:\n",
    "            colloc_words.append('_'.join((tokenized_words[i], tokenized_words[i + 1])))\n",
    "            i += 2\n",
    "        # Otherwise, advance by one word\n",
    "        else:\n",
    "            colloc_words.append(tokenized_words[i])\n",
    "            i += 1\n",
    "\n",
    "    # Add the last word (if any)\n",
    "    if i == len(tokenized_words) - 1:\n",
    "        colloc_words.append(tokenized_words[i])\n",
    "    underscore_dict[key] = colloc_words\n",
    "\n",
    "print(\"Underscore Dictionary:\")\n",
    "for key in underscore_dict:\n",
    "    print(key)\n",
    "\n",
    "write_dict_to_files_with_suffix(underscore_dict, underscore_folder, 'underscore_bigrams')"
   ]
  },
  {
   "cell_type": "code",
   "execution_count": 20,
   "id": "8f0b3b4c-c6df-4bdf-84c2-fb152e0b68e5",
   "metadata": {},
   "outputs": [
    {
     "name": "stdout",
     "output_type": "stream",
     "text": [
      "Trigram underscore Dictionary:\n",
      "Remonstrances - parlement_corrected\n",
      "Remonstrances - Royaume_corrected\n",
      "Remonstrances - parlement_corrected_underscore_trigrams.txt in tokenized/underscore_trigrams\n",
      "Remonstrances - Royaume_corrected_underscore_trigrams.txt in tokenized/underscore_trigrams\n"
     ]
    }
   ],
   "source": [
    "trigram_underscore_dict = {}\n",
    "\n",
    "for key, tokenized_words in unigrams.items():\n",
    "    collocations = trigram_colloc_dict.get(key, [])\n",
    "    colloc_words = []\n",
    "    i = 0\n",
    "    while i < len(tokenized_words) - 2:\n",
    "        # If we find a trigram collocation, add and advance by three words\n",
    "        trigram = (tokenized_words[i], tokenized_words[i + 1], tokenized_words[i + 2])\n",
    "        if trigram in collocations:\n",
    "            colloc_words.append('_'.join(trigram))\n",
    "            i += 3\n",
    "        else:\n",
    "            colloc_words.append(tokenized_words[i])\n",
    "            i += 1\n",
    "    # Add the last words (if any)\n",
    "    while i < len(tokenized_words):\n",
    "        colloc_words.append(tokenized_words[i])\n",
    "        i += 1\n",
    "    trigram_underscore_dict[key] = colloc_words\n",
    "\n",
    "print(\"Trigram underscore Dictionary:\")\n",
    "for key in trigram_underscore_dict:\n",
    "    print(key)\n",
    "\n",
    "write_dict_to_files_with_suffix(trigram_underscore_dict, trigram_underscore_folder, 'underscore_trigrams')"
   ]
  }
 ],
 "metadata": {
  "kernelspec": {
   "display_name": "Python 3 (ipykernel)",
   "language": "python",
   "name": "python3"
  },
  "language_info": {
   "codemirror_mode": {
    "name": "ipython",
    "version": 3
   },
   "file_extension": ".py",
   "mimetype": "text/x-python",
   "name": "python",
   "nbconvert_exporter": "python",
   "pygments_lexer": "ipython3",
   "version": "3.12.4"
  }
 },
 "nbformat": 4,
 "nbformat_minor": 5
}
