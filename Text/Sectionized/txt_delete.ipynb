{
   "cells": [
      {
         "cell_type": "code",
         "execution_count": null,
         "metadata": {},
         "outputs": [
            {
               "name": "stdout",
               "output_type": "stream",
               "text": [
                  "1. .ipynb_checkpoints\n",
                  "2. lemmatized\n",
                  "Selected: lemmatized\n"
               ]
            }
         ],
         "source": [
            "import glob, os\n",
            "\n",
            "current_dir = os.getcwd()\n",
            "subfolders = sorted(d for d in os.listdir(current_dir) if os.path.isdir(os.path.join(current_dir, d)))\n",
            "if not subfolders:\n",
            "    print(\"No subfolders found.\")\n",
            "    selected_subfolder = None\n",
            "else:\n",
            "    for i, name in enumerate(subfolders, 1):\n",
            "        print(f\"{i}. {name}\")\n",
            "    while True:\n",
            "        ch = input(\"Select folder (number/name, Enter to cancel): \").strip()\n",
            "        if ch == \"\":\n",
            "            selected_subfolder = None\n",
            "            print(\"Cancelled.\")\n",
            "            break\n",
            "        if ch.isdigit() and 1 <= int(ch) <= len(subfolders):\n",
            "            selected_subfolder = subfolders[int(ch)-1]; break\n",
            "        if ch in subfolders:\n",
            "            selected_subfolder = ch; break\n",
            "        print(\"Invalid choice.\")\n",
            "print(\"Selected:\", selected_subfolder)\n",
            "\n",
            "def delete_txt_files(folder):\n",
            "    paths = sorted(glob.glob(os.path.join(current_dir, folder, \"*.txt\")))\n",
            "    if not paths:\n",
            "        print(\"No .txt files.\"); return\n",
            "    print(f\"{len(paths)} file(s):\")\n",
            "    for p in paths: print(\" -\", os.path.basename(p))\n",
            "    if input(\"Confirm (type 'delete'): \").lower() != \"delete\":\n",
            "        print(\"Aborted.\"); return\n",
            "    ok = 0\n",
            "    for p in paths:\n",
            "        try: os.remove(p); ok += 1\n",
            "        except OSError as e: print(\"Failed:\", p, e)\n",
            "    print(f\"Deleted {ok}/{len(paths)}.\")\n",
            "\n",
            "if selected_subfolder and input(f\"Proceed in '{selected_subfolder}'? (y/N): \").lower() in (\"y\",\"yes\"):\n",
            "    delete_txt_files(selected_subfolder)\n",
            "else:\n",
            "    print(\"No deletion performed.\")"
         ]
      }
   ],
   "metadata": {
      "kernelspec": {
         "display_name": "Python 3",
         "language": "python",
         "name": "python3"
      },
      "language_info": {
         "codemirror_mode": {
            "name": "ipython",
            "version": 3
         },
         "file_extension": ".py",
         "mimetype": "text/x-python",
         "name": "python",
         "nbconvert_exporter": "python",
         "pygments_lexer": "ipython3",
         "version": "3.12.1"
      }
   },
   "nbformat": 4,
   "nbformat_minor": 2
}
