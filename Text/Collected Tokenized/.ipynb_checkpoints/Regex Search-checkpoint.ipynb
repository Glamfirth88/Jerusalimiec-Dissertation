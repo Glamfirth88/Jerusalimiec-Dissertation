{
 "cells": [
  {
   "cell_type": "code",
   "execution_count": 1,
   "id": "49fd7157-cbe1-4028-bd92-b6ec3b041faf",
   "metadata": {},
   "outputs": [
    {
     "name": "stdout",
     "output_type": "stream",
     "text": [
      "Available text files:\n",
      "1. Bodin.txt\n",
      "2. Discours des raisons_corrected.txt\n",
      "3. Démonomanie Repair_corrected.txt\n",
      "4. Harangue - Fontainebleau_corrected.txt\n",
      "5. Harangue - Orléans 2_corrected.txt\n",
      "6. Harangue - Orléans_corrected.txt\n",
      "7. Harangue - Poissy_corrected.txt\n",
      "8. Harangue - Rouen_corrected.txt\n",
      "9. Harangue - Saint Germain_corrected.txt\n",
      "10. Harangue - lit de justice_corrected.txt\n",
      "11. Harangue - ouverture de parlement_corrected.txt\n",
      "12. Harangue - parlement 2_corrected.txt\n",
      "13. Harangue - parlement 3_corrected.txt\n",
      "14. Harangue - parlement_corrected.txt\n",
      "15. Harangue - religion_corrected.txt\n",
      "16. Harangue - septembre_corrected.txt\n",
      "17. L'Hospital.txt\n",
      "18. La réponse_corrected.txt\n",
      "19. Le paradoxe_corrected.txt\n",
      "20. Lettre_corrected.txt\n",
      "21. Lit de justice_corrected.txt\n",
      "22. Memoire - Namur_corrected.txt\n",
      "23. Memoire - le but_corrected.txt\n",
      "24. Memoire au roi_corrected.txt\n",
      "25. Memoires d'État Refuge_corrected.txt\n",
      "26. Memoires d'état_corrected.txt\n",
      "27. Recueil_corrected.txt\n",
      "28. Remonstrances - Royaume_corrected.txt\n",
      "29. Remonstrances - parlement_corrected.txt\n",
      "30. République_corrected.txt\n",
      "31. Théatre_corrected.txt\n",
      "32. Traite Justice VII_corrected.txt\n",
      "33. Traite Justice VI_corrected.txt\n",
      "34. Traite Justice V_corrected.txt\n",
      "35. Traité Justice III_corrected.txt\n",
      "36. Traité Justice II_corrected.txt\n",
      "37. Traité Justice IV_corrected.txt\n",
      "38. Traité Justice I_corrected.txt\n"
     ]
    },
    {
     "name": "stdin",
     "output_type": "stream",
     "text": [
      "Select a file number:  1\n",
      "Enter the regex pattern:  eft[^\\w\\s][^\\w\\s]\n"
     ]
    }
   ],
   "source": [
    "import re\n",
    "import os\n",
    "\n",
    "def select_file():\n",
    "    # List all text files in the current directory\n",
    "    txt_files = sorted([f for f in os.listdir() if f.endswith('.txt')])\n",
    "    if not txt_files:\n",
    "        print(\"No text files found in the current directory.\")\n",
    "        return None\n",
    "\n",
    "    print(\"Available text files:\")\n",
    "    for i, file in enumerate(txt_files):\n",
    "        print(f\"{i + 1}. {file}\")\n",
    "\n",
    "    while True:\n",
    "        try:\n",
    "            choice = int(input(\"Select a file number: \")) - 1\n",
    "            if choice < 0 or choice >= len(txt_files):\n",
    "                print(\"Invalid choice. Please enter a valid number.\")\n",
    "                continue\n",
    "            return txt_files[choice]\n",
    "        except ValueError:\n",
    "            print(\"Invalid input. Please enter a number.\")\n",
    "\n",
    "def search_pattern(file_path, pattern):\n",
    "    results = []\n",
    "\n",
    "    with open(file_path, 'r') as file:\n",
    "        for line in file:\n",
    "            matches = pattern.findall(line)\n",
    "            results.extend(matches)\n",
    "            if len(results) >= 100:\n",
    "                break\n",
    "\n",
    "    # Print the first 100 results\n",
    "    for i, word in enumerate(results[:100], start=1):\n",
    "        print(f\"{i}. {word}\")\n",
    "\n",
    "def main():\n",
    "    file_path = select_file()\n",
    "    if file_path:\n",
    "        regex_pattern = input(\"Enter the regex pattern: \")\n",
    "        try:\n",
    "            pattern = re.compile(regex_pattern)\n",
    "            search_pattern(file_path, pattern)\n",
    "        except re.error:\n",
    "            print(\"Invalid regex pattern. Please try again.\")\n",
    "            main()"
   ]
  },
  {
   "cell_type": "code",
   "execution_count": null,
   "id": "eaf2c264-1019-4519-bad3-609b0ec76b43",
   "metadata": {},
   "outputs": [],
   "source": [
    "if __name__ == \"__main__\":\n",
    "    main()"
   ]
  }
 ],
 "metadata": {
  "kernelspec": {
   "display_name": "Python 3 (ipykernel)",
   "language": "python",
   "name": "python3"
  },
  "language_info": {
   "codemirror_mode": {
    "name": "ipython",
    "version": 3
   },
   "file_extension": ".py",
   "mimetype": "text/x-python",
   "name": "python",
   "nbconvert_exporter": "python",
   "pygments_lexer": "ipython3",
   "version": "3.12.4"
  }
 },
 "nbformat": 4,
 "nbformat_minor": 5
}
